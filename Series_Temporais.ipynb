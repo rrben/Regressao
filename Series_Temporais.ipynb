{
  "nbformat": 4,
  "nbformat_minor": 0,
  "metadata": {
    "colab": {
      "provenance": [],
      "include_colab_link": true
    },
    "kernelspec": {
      "name": "python3",
      "display_name": "Python 3"
    },
    "language_info": {
      "name": "python"
    }
  },
  "cells": [
    {
      "cell_type": "markdown",
      "metadata": {
        "id": "view-in-github",
        "colab_type": "text"
      },
      "source": [
        "<a href=\"https://colab.research.google.com/github/rrben/Regressao/blob/main/Series_Temporais.ipynb\" target=\"_parent\"><img src=\"https://colab.research.google.com/assets/colab-badge.svg\" alt=\"Open In Colab\"/></a>"
      ]
    },
    {
      "cell_type": "code",
      "execution_count": 1,
      "metadata": {
        "id": "oKVUeo_0r_ZR"
      },
      "outputs": [],
      "source": [
        "\n",
        "import pandas as pd\n",
        "import numpy as np\n",
        "from matplotlib import pyplot as plt\n",
        "\n",
        "\n",
        "from statsmodels.tsa.arima.model import ARIMA"
      ]
    },
    {
      "cell_type": "code",
      "source": [
        "!pip install scipy"
      ],
      "metadata": {
        "id": "pj_NH9OcsLuD"
      },
      "execution_count": null,
      "outputs": []
    },
    {
      "cell_type": "code",
      "source": [
        "!pip install pmdarima"
      ],
      "metadata": {
        "id": "zSvVkjE9sQl_"
      },
      "execution_count": null,
      "outputs": []
    },
    {
      "cell_type": "code",
      "source": [
        "from pmdarima.arima import auto_arima"
      ],
      "metadata": {
        "id": "9oTJea0ssSPs"
      },
      "execution_count": 4,
      "outputs": []
    },
    {
      "cell_type": "code",
      "source": [
        "# vamos importar a base de produção de energia elétrica\n",
        "df = pd.read_excel('temperature.xlsx', index_col='Date', parse_dates=True)\n",
        "df.head()"
      ],
      "metadata": {
        "colab": {
          "base_uri": "https://localhost:8080/",
          "height": 238
        },
        "id": "pV78dqjPsUOD",
        "outputId": "34c6fea4-d5a2-4744-aafb-ad27eb5cbe4c"
      },
      "execution_count": 5,
      "outputs": [
        {
          "output_type": "execute_result",
          "data": {
            "text/plain": [
              "            Daily minimum temperatures\n",
              "Date                                  \n",
              "1981-01-01                        20.7\n",
              "1981-02-01                        17.9\n",
              "1981-03-01                        18.8\n",
              "1981-04-01                        14.6\n",
              "1981-05-01                        15.8"
            ],
            "text/html": [
              "\n",
              "  <div id=\"df-3e047c0d-e914-472b-b7c8-b4f6d945fcaf\">\n",
              "    <div class=\"colab-df-container\">\n",
              "      <div>\n",
              "<style scoped>\n",
              "    .dataframe tbody tr th:only-of-type {\n",
              "        vertical-align: middle;\n",
              "    }\n",
              "\n",
              "    .dataframe tbody tr th {\n",
              "        vertical-align: top;\n",
              "    }\n",
              "\n",
              "    .dataframe thead th {\n",
              "        text-align: right;\n",
              "    }\n",
              "</style>\n",
              "<table border=\"1\" class=\"dataframe\">\n",
              "  <thead>\n",
              "    <tr style=\"text-align: right;\">\n",
              "      <th></th>\n",
              "      <th>Daily minimum temperatures</th>\n",
              "    </tr>\n",
              "    <tr>\n",
              "      <th>Date</th>\n",
              "      <th></th>\n",
              "    </tr>\n",
              "  </thead>\n",
              "  <tbody>\n",
              "    <tr>\n",
              "      <th>1981-01-01</th>\n",
              "      <td>20.7</td>\n",
              "    </tr>\n",
              "    <tr>\n",
              "      <th>1981-02-01</th>\n",
              "      <td>17.9</td>\n",
              "    </tr>\n",
              "    <tr>\n",
              "      <th>1981-03-01</th>\n",
              "      <td>18.8</td>\n",
              "    </tr>\n",
              "    <tr>\n",
              "      <th>1981-04-01</th>\n",
              "      <td>14.6</td>\n",
              "    </tr>\n",
              "    <tr>\n",
              "      <th>1981-05-01</th>\n",
              "      <td>15.8</td>\n",
              "    </tr>\n",
              "  </tbody>\n",
              "</table>\n",
              "</div>\n",
              "      <button class=\"colab-df-convert\" onclick=\"convertToInteractive('df-3e047c0d-e914-472b-b7c8-b4f6d945fcaf')\"\n",
              "              title=\"Convert this dataframe to an interactive table.\"\n",
              "              style=\"display:none;\">\n",
              "        \n",
              "  <svg xmlns=\"http://www.w3.org/2000/svg\" height=\"24px\"viewBox=\"0 0 24 24\"\n",
              "       width=\"24px\">\n",
              "    <path d=\"M0 0h24v24H0V0z\" fill=\"none\"/>\n",
              "    <path d=\"M18.56 5.44l.94 2.06.94-2.06 2.06-.94-2.06-.94-.94-2.06-.94 2.06-2.06.94zm-11 1L8.5 8.5l.94-2.06 2.06-.94-2.06-.94L8.5 2.5l-.94 2.06-2.06.94zm10 10l.94 2.06.94-2.06 2.06-.94-2.06-.94-.94-2.06-.94 2.06-2.06.94z\"/><path d=\"M17.41 7.96l-1.37-1.37c-.4-.4-.92-.59-1.43-.59-.52 0-1.04.2-1.43.59L10.3 9.45l-7.72 7.72c-.78.78-.78 2.05 0 2.83L4 21.41c.39.39.9.59 1.41.59.51 0 1.02-.2 1.41-.59l7.78-7.78 2.81-2.81c.8-.78.8-2.07 0-2.86zM5.41 20L4 18.59l7.72-7.72 1.47 1.35L5.41 20z\"/>\n",
              "  </svg>\n",
              "      </button>\n",
              "      \n",
              "  <style>\n",
              "    .colab-df-container {\n",
              "      display:flex;\n",
              "      flex-wrap:wrap;\n",
              "      gap: 12px;\n",
              "    }\n",
              "\n",
              "    .colab-df-convert {\n",
              "      background-color: #E8F0FE;\n",
              "      border: none;\n",
              "      border-radius: 50%;\n",
              "      cursor: pointer;\n",
              "      display: none;\n",
              "      fill: #1967D2;\n",
              "      height: 32px;\n",
              "      padding: 0 0 0 0;\n",
              "      width: 32px;\n",
              "    }\n",
              "\n",
              "    .colab-df-convert:hover {\n",
              "      background-color: #E2EBFA;\n",
              "      box-shadow: 0px 1px 2px rgba(60, 64, 67, 0.3), 0px 1px 3px 1px rgba(60, 64, 67, 0.15);\n",
              "      fill: #174EA6;\n",
              "    }\n",
              "\n",
              "    [theme=dark] .colab-df-convert {\n",
              "      background-color: #3B4455;\n",
              "      fill: #D2E3FC;\n",
              "    }\n",
              "\n",
              "    [theme=dark] .colab-df-convert:hover {\n",
              "      background-color: #434B5C;\n",
              "      box-shadow: 0px 1px 3px 1px rgba(0, 0, 0, 0.15);\n",
              "      filter: drop-shadow(0px 1px 2px rgba(0, 0, 0, 0.3));\n",
              "      fill: #FFFFFF;\n",
              "    }\n",
              "  </style>\n",
              "\n",
              "      <script>\n",
              "        const buttonEl =\n",
              "          document.querySelector('#df-3e047c0d-e914-472b-b7c8-b4f6d945fcaf button.colab-df-convert');\n",
              "        buttonEl.style.display =\n",
              "          google.colab.kernel.accessAllowed ? 'block' : 'none';\n",
              "\n",
              "        async function convertToInteractive(key) {\n",
              "          const element = document.querySelector('#df-3e047c0d-e914-472b-b7c8-b4f6d945fcaf');\n",
              "          const dataTable =\n",
              "            await google.colab.kernel.invokeFunction('convertToInteractive',\n",
              "                                                     [key], {});\n",
              "          if (!dataTable) return;\n",
              "\n",
              "          const docLinkHtml = 'Like what you see? Visit the ' +\n",
              "            '<a target=\"_blank\" href=https://colab.research.google.com/notebooks/data_table.ipynb>data table notebook</a>'\n",
              "            + ' to learn more about interactive tables.';\n",
              "          element.innerHTML = '';\n",
              "          dataTable['output_type'] = 'display_data';\n",
              "          await google.colab.output.renderOutput(dataTable, element);\n",
              "          const docLink = document.createElement('div');\n",
              "          docLink.innerHTML = docLinkHtml;\n",
              "          element.appendChild(docLink);\n",
              "        }\n",
              "      </script>\n",
              "    </div>\n",
              "  </div>\n",
              "  "
            ]
          },
          "metadata": {},
          "execution_count": 5
        }
      ]
    },
    {
      "cell_type": "code",
      "source": [
        "df.info()"
      ],
      "metadata": {
        "colab": {
          "base_uri": "https://localhost:8080/"
        },
        "id": "pxEe02dWv0KQ",
        "outputId": "6876f536-8e37-4976-f547-45ef916538bc"
      },
      "execution_count": 6,
      "outputs": [
        {
          "output_type": "stream",
          "name": "stdout",
          "text": [
            "<class 'pandas.core.frame.DataFrame'>\n",
            "DatetimeIndex: 3647 entries, 1981-01-01 to 1990-12-31\n",
            "Data columns (total 1 columns):\n",
            " #   Column                      Non-Null Count  Dtype  \n",
            "---  ------                      --------------  -----  \n",
            " 0   Daily minimum temperatures  3647 non-null   float64\n",
            "dtypes: float64(1)\n",
            "memory usage: 57.0 KB\n"
          ]
        }
      ]
    },
    {
      "cell_type": "code",
      "source": [
        "df['Daily minimum temperatures'] = df['Daily minimum temperatures'].astype(float)"
      ],
      "metadata": {
        "id": "c3np8m9ksr9Y"
      },
      "execution_count": 7,
      "outputs": []
    },
    {
      "cell_type": "code",
      "source": [
        "df.info()"
      ],
      "metadata": {
        "colab": {
          "base_uri": "https://localhost:8080/"
        },
        "id": "QHUrC1qlt-Bf",
        "outputId": "f069c40f-4c7c-494c-9d8b-69ec948b01c8"
      },
      "execution_count": 8,
      "outputs": [
        {
          "output_type": "stream",
          "name": "stdout",
          "text": [
            "<class 'pandas.core.frame.DataFrame'>\n",
            "DatetimeIndex: 3647 entries, 1981-01-01 to 1990-12-31\n",
            "Data columns (total 1 columns):\n",
            " #   Column                      Non-Null Count  Dtype  \n",
            "---  ------                      --------------  -----  \n",
            " 0   Daily minimum temperatures  3647 non-null   float64\n",
            "dtypes: float64(1)\n",
            "memory usage: 57.0 KB\n"
          ]
        }
      ]
    },
    {
      "cell_type": "code",
      "source": [
        "df.head"
      ],
      "metadata": {
        "colab": {
          "base_uri": "https://localhost:8080/"
        },
        "id": "9gkajAVStjKr",
        "outputId": "bdc3c850-7e99-49bc-8576-76399051c881"
      },
      "execution_count": 9,
      "outputs": [
        {
          "output_type": "execute_result",
          "data": {
            "text/plain": [
              "<bound method NDFrame.head of             Daily minimum temperatures\n",
              "Date                                  \n",
              "1981-01-01                        20.7\n",
              "1981-02-01                        17.9\n",
              "1981-03-01                        18.8\n",
              "1981-04-01                        14.6\n",
              "1981-05-01                        15.8\n",
              "...                                ...\n",
              "1990-12-27                        14.0\n",
              "1990-12-28                        13.6\n",
              "1990-12-29                        13.5\n",
              "1990-12-30                        15.7\n",
              "1990-12-31                        13.0\n",
              "\n",
              "[3647 rows x 1 columns]>"
            ]
          },
          "metadata": {},
          "execution_count": 9
        }
      ]
    },
    {
      "cell_type": "code",
      "source": [
        "df['Daily minimum temperatures'].plot(figsize=(10,6))"
      ],
      "metadata": {
        "colab": {
          "base_uri": "https://localhost:8080/",
          "height": 521
        },
        "id": "odE2TFNCtli5",
        "outputId": "fb256298-0c56-4812-d928-44ef3f9e894a"
      },
      "execution_count": 10,
      "outputs": [
        {
          "output_type": "execute_result",
          "data": {
            "text/plain": [
              "<Axes: xlabel='Date'>"
            ]
          },
          "metadata": {},
          "execution_count": 10
        },
        {
          "output_type": "display_data",
          "data": {
            "text/plain": [
              "<Figure size 1000x600 with 1 Axes>"
            ],
            "image/png": "[encoded data removed]"
          },
          "metadata": {}
        }
      ]
    },
    {
      "cell_type": "code",
      "source": [
        "df.head()"
      ],
      "metadata": {
        "colab": {
          "base_uri": "https://localhost:8080/",
          "height": 238
        },
        "id": "Enf_TIq-w8oC",
        "outputId": "ba9dbe1c-fa00-42cc-bd52-0bf7428ae2db"
      },
      "execution_count": 11,
      "outputs": [
        {
          "output_type": "execute_result",
          "data": {
            "text/plain": [
              "            Daily minimum temperatures\n",
              "Date                                  \n",
              "1981-01-01                        20.7\n",
              "1981-02-01                        17.9\n",
              "1981-03-01                        18.8\n",
              "1981-04-01                        14.6\n",
              "1981-05-01                        15.8"
            ],
            "text/html": [
              "\n",
              "  <div id=\"df-af4a99ec-6079-4865-899d-5c7bce47f866\">\n",
              "    <div class=\"colab-df-container\">\n",
              "      <div>\n",
              "<style scoped>\n",
              "    .dataframe tbody tr th:only-of-type {\n",
              "        vertical-align: middle;\n",
              "    }\n",
              "\n",
              "    .dataframe tbody tr th {\n",
              "        vertical-align: top;\n",
              "    }\n",
              "\n",
              "    .dataframe thead th {\n",
              "        text-align: right;\n",
              "    }\n",
              "</style>\n",
              "<table border=\"1\" class=\"dataframe\">\n",
              "  <thead>\n",
              "    <tr style=\"text-align: right;\">\n",
              "      <th></th>\n",
              "      <th>Daily minimum temperatures</th>\n",
              "    </tr>\n",
              "    <tr>\n",
              "      <th>Date</th>\n",
              "      <th></th>\n",
              "    </tr>\n",
              "  </thead>\n",
              "  <tbody>\n",
              "    <tr>\n",
              "      <th>1981-01-01</th>\n",
              "      <td>20.7</td>\n",
              "    </tr>\n",
              "    <tr>\n",
              "      <th>1981-02-01</th>\n",
              "      <td>17.9</td>\n",
              "    </tr>\n",
              "    <tr>\n",
              "      <th>1981-03-01</th>\n",
              "      <td>18.8</td>\n",
              "    </tr>\n",
              "    <tr>\n",
              "      <th>1981-04-01</th>\n",
              "      <td>14.6</td>\n",
              "    </tr>\n",
              "    <tr>\n",
              "      <th>1981-05-01</th>\n",
              "      <td>15.8</td>\n",
              "    </tr>\n",
              "  </tbody>\n",
              "</table>\n",
              "</div>\n",
              "      <button class=\"colab-df-convert\" onclick=\"convertToInteractive('df-af4a99ec-6079-4865-899d-5c7bce47f866')\"\n",
              "              title=\"Convert this dataframe to an interactive table.\"\n",
              "              style=\"display:none;\">\n",
              "        \n",
              "  <svg xmlns=\"http://www.w3.org/2000/svg\" height=\"24px\"viewBox=\"0 0 24 24\"\n",
              "       width=\"24px\">\n",
              "    <path d=\"M0 0h24v24H0V0z\" fill=\"none\"/>\n",
              "    <path d=\"M18.56 5.44l.94 2.06.94-2.06 2.06-.94-2.06-.94-.94-2.06-.94 2.06-2.06.94zm-11 1L8.5 8.5l.94-2.06 2.06-.94-2.06-.94L8.5 2.5l-.94 2.06-2.06.94zm10 10l.94 2.06.94-2.06 2.06-.94-2.06-.94-.94-2.06-.94 2.06-2.06.94z\"/><path d=\"M17.41 7.96l-1.37-1.37c-.4-.4-.92-.59-1.43-.59-.52 0-1.04.2-1.43.59L10.3 9.45l-7.72 7.72c-.78.78-.78 2.05 0 2.83L4 21.41c.39.39.9.59 1.41.59.51 0 1.02-.2 1.41-.59l7.78-7.78 2.81-2.81c.8-.78.8-2.07 0-2.86zM5.41 20L4 18.59l7.72-7.72 1.47 1.35L5.41 20z\"/>\n",
              "  </svg>\n",
              "      </button>\n",
              "      \n",
              "  <style>\n",
              "    .colab-df-container {\n",
              "      display:flex;\n",
              "      flex-wrap:wrap;\n",
              "      gap: 12px;\n",
              "    }\n",
              "\n",
              "    .colab-df-convert {\n",
              "      background-color: #E8F0FE;\n",
              "      border: none;\n",
              "      border-radius: 50%;\n",
              "      cursor: pointer;\n",
              "      display: none;\n",
              "      fill: #1967D2;\n",
              "      height: 32px;\n",
              "      padding: 0 0 0 0;\n",
              "      width: 32px;\n",
              "    }\n",
              "\n",
              "    .colab-df-convert:hover {\n",
              "      background-color: #E2EBFA;\n",
              "      box-shadow: 0px 1px 2px rgba(60, 64, 67, 0.3), 0px 1px 3px 1px rgba(60, 64, 67, 0.15);\n",
              "      fill: #174EA6;\n",
              "    }\n",
              "\n",
              "    [theme=dark] .colab-df-convert {\n",
              "      background-color: #3B4455;\n",
              "      fill: #D2E3FC;\n",
              "    }\n",
              "\n",
              "    [theme=dark] .colab-df-convert:hover {\n",
              "      background-color: #434B5C;\n",
              "      box-shadow: 0px 1px 3px 1px rgba(0, 0, 0, 0.15);\n",
              "      filter: drop-shadow(0px 1px 2px rgba(0, 0, 0, 0.3));\n",
              "      fill: #FFFFFF;\n",
              "    }\n",
              "  </style>\n",
              "\n",
              "      <script>\n",
              "        const buttonEl =\n",
              "          document.querySelector('#df-af4a99ec-6079-4865-899d-5c7bce47f866 button.colab-df-convert');\n",
              "        buttonEl.style.display =\n",
              "          google.colab.kernel.accessAllowed ? 'block' : 'none';\n",
              "\n",
              "        async function convertToInteractive(key) {\n",
              "          const element = document.querySelector('#df-af4a99ec-6079-4865-899d-5c7bce47f866');\n",
              "          const dataTable =\n",
              "            await google.colab.kernel.invokeFunction('convertToInteractive',\n",
              "                                                     [key], {});\n",
              "          if (!dataTable) return;\n",
              "\n",
              "          const docLinkHtml = 'Like what you see? Visit the ' +\n",
              "            '<a target=\"_blank\" href=https://colab.research.google.com/notebooks/data_table.ipynb>data table notebook</a>'\n",
              "            + ' to learn more about interactive tables.';\n",
              "          element.innerHTML = '';\n",
              "          dataTable['output_type'] = 'display_data';\n",
              "          await google.colab.output.renderOutput(dataTable, element);\n",
              "          const docLink = document.createElement('div');\n",
              "          docLink.innerHTML = docLinkHtml;\n",
              "          element.appendChild(docLink);\n",
              "        }\n",
              "      </script>\n",
              "    </div>\n",
              "  </div>\n",
              "  "
            ]
          },
          "metadata": {},
          "execution_count": 11
        }
      ]
    },
    {
      "cell_type": "code",
      "source": [
        "df.index.min(), df.index.max()"
      ],
      "metadata": {
        "colab": {
          "base_uri": "https://localhost:8080/"
        },
        "id": "hL2FJE4exESK",
        "outputId": "1daa35f7-7e7a-46ff-e2ab-3c4abc48f6dd"
      },
      "execution_count": 12,
      "outputs": [
        {
          "output_type": "execute_result",
          "data": {
            "text/plain": [
              "(Timestamp('1981-01-01 00:00:00'), Timestamp('1990-12-31 00:00:00'))"
            ]
          },
          "metadata": {},
          "execution_count": 12
        }
      ]
    },
    {
      "cell_type": "code",
      "source": [
        "df.sort_index(inplace=True)"
      ],
      "metadata": {
        "id": "WBmb0nvpyCuu"
      },
      "execution_count": 13,
      "outputs": []
    },
    {
      "cell_type": "code",
      "source": [
        "# Primeiro, vamos decompor a série pra avaliar tendência\n",
        "# Sazonalidade e resíduo\n",
        "from statsmodels.tsa.seasonal import seasonal_decompose\n",
        "\n",
        "resultado = seasonal_decompose(df, model=\"add\",period=365)\n",
        "\n",
        "fig = plt.figure(figsize=(8, 6))  \n",
        "fig = resultado.plot()"
      ],
      "metadata": {
        "colab": {
          "base_uri": "https://localhost:8080/",
          "height": 504
        },
        "id": "BL6gObKAt8Yc",
        "outputId": "9e872e5c-1393-48c0-a4b7-424cac9e4b9d"
      },
      "execution_count": 14,
      "outputs": [
        {
          "output_type": "display_data",
          "data": {
            "text/plain": [
              "<Figure size 800x600 with 0 Axes>"
            ]
          },
          "metadata": {}
        },
        {
          "output_type": "display_data",
          "data": {
            "text/plain": [
              "<Figure size 640x480 with 4 Axes>"
            ],
            "image/png": "[encoded data removed]"
          },
          "metadata": {}
        }
      ]
    },
    {
      "cell_type": "code",
      "source": [
        "# Teste de estacionariedade. \n",
        "# A hipótese nula é que a série não é estacionária\n",
        "# Ou seja, se o p-valor for menor que 0,05, rejeitamos\n",
        "# que a série não é estacionária. Caso seja maior, não podemos\n",
        "# descartar que a série não é estacionária\n",
        "from statsmodels.tsa.stattools import adfuller\n",
        "\n",
        "result=adfuller(df['Daily minimum temperatures'].dropna())\n",
        "print(f'Teste ADF:{result[0]}')\n",
        "print(f'p-valor:{result[1]}')"
      ],
      "metadata": {
        "colab": {
          "base_uri": "https://localhost:8080/"
        },
        "id": "KULFTA_wwYlZ",
        "outputId": "9b71f0dd-792a-45e4-8b29-c1f3585cb603"
      },
      "execution_count": 15,
      "outputs": [
        {
          "output_type": "stream",
          "name": "stdout",
          "text": [
            "Teste ADF:-3.331541412968857\n",
            "p-valor:0.01352611219545271\n"
          ]
        }
      ]
    },
    {
      "cell_type": "code",
      "source": [
        "# Auto ARIMA nos ajuda a buscar os melhores parâmetros\n",
        "fit_arima = auto_arima(df, d=1, start_p=1, start_q=1, max_p=3, max_q=3,\n",
        "                    seasonal=True, \n",
        "                           m=6, \n",
        "                           D=1, \n",
        "                           start_P=1, \n",
        "                           start_Q=1, \n",
        "                           max_P=2, \n",
        "                           max_Q=2, \n",
        "                           information_criterion='aic',\n",
        "                           trace=True, \n",
        "                           error_action='ignore', \n",
        "                           stepwise=True)"
      ],
      "metadata": {
        "colab": {
          "base_uri": "https://localhost:8080/"
        },
        "id": "zHbQBukvyUH8",
        "outputId": "43f6a57c-5221-4113-d898-b882d64262b2"
      },
      "execution_count": 16,
      "outputs": [
        {
          "output_type": "stream",
          "name": "stdout",
          "text": [
            "Performing stepwise search to minimize aic\n",
            " ARIMA(1,1,1)(1,1,1)[6]             : AIC=inf, Time=32.49 sec\n",
            " ARIMA(0,1,0)(0,1,0)[6]             : AIC=22211.573, Time=0.19 sec\n",
            " ARIMA(1,1,0)(1,1,0)[6]             : AIC=20978.709, Time=1.45 sec\n",
            " ARIMA(0,1,1)(0,1,1)[6]             : AIC=inf, Time=10.08 sec\n",
            " ARIMA(1,1,0)(0,1,0)[6]             : AIC=22068.931, Time=0.39 sec\n",
            " ARIMA(1,1,0)(2,1,0)[6]             : AIC=20482.431, Time=1.89 sec\n",
            " ARIMA(1,1,0)(2,1,1)[6]             : AIC=inf, Time=14.55 sec\n",
            " ARIMA(1,1,0)(1,1,1)[6]             : AIC=inf, Time=7.38 sec\n",
            " ARIMA(0,1,0)(2,1,0)[6]             : AIC=20662.364, Time=1.00 sec\n",
            " ARIMA(2,1,0)(2,1,0)[6]             : AIC=20418.687, Time=2.12 sec\n",
            " ARIMA(2,1,0)(1,1,0)[6]             : AIC=20927.151, Time=1.20 sec\n",
            " ARIMA(2,1,0)(2,1,1)[6]             : AIC=inf, Time=18.78 sec\n",
            " ARIMA(2,1,0)(1,1,1)[6]             : AIC=inf, Time=9.70 sec\n",
            " ARIMA(3,1,0)(2,1,0)[6]             : AIC=20352.684, Time=2.56 sec\n",
            " ARIMA(3,1,0)(1,1,0)[6]             : AIC=20872.994, Time=2.59 sec\n",
            " ARIMA(3,1,0)(2,1,1)[6]             : AIC=inf, Time=21.35 sec\n",
            " ARIMA(3,1,0)(1,1,1)[6]             : AIC=inf, Time=14.46 sec\n",
            " ARIMA(3,1,1)(2,1,0)[6]             : AIC=inf, Time=23.17 sec\n",
            " ARIMA(2,1,1)(2,1,0)[6]             : AIC=inf, Time=17.41 sec\n",
            " ARIMA(3,1,0)(2,1,0)[6] intercept   : AIC=20354.683, Time=8.72 sec\n",
            "\n",
            "Best model:  ARIMA(3,1,0)(2,1,0)[6]          \n",
            "Total fit time: 191.537 seconds\n"
          ]
        }
      ]
    },
    {
      "cell_type": "code",
      "source": [
        "# Agora que sabemos os melhores parâmetros, vamos criar um modelo SARIMAX \n",
        "# (versão do arima com parametros para sazonalidade)\n",
        "\n",
        "from statsmodels.tsa.statespace.sarimax import SARIMAX\n",
        "\n",
        "model = SARIMAX(df,order=(3,1,0))\n",
        "resultado_sarimax = model.fit()"
      ],
      "metadata": {
        "id": "q8SMzT80ya_o"
      },
      "execution_count": null,
      "outputs": []
    },
    {
      "cell_type": "code",
      "source": [
        "# resultados do modelo SARIMAX(3,1,0)\n",
        "resultado_sarimax.summary()"
      ],
      "metadata": {
        "colab": {
          "base_uri": "https://localhost:8080/",
          "height": 452
        },
        "id": "kAsxeMU4zI2k",
        "outputId": "882e106a-b6c2-4680-860d-77580485d09d"
      },
      "execution_count": 18,
      "outputs": [
        {
          "output_type": "execute_result",
          "data": {
            "text/plain": [
              "<class 'statsmodels.iolib.summary.Summary'>\n",
              "\"\"\"\n",
              "                                   SARIMAX Results                                    \n",
              "======================================================================================\n",
              "Dep. Variable:     Daily minimum temperatures   No. Observations:                 3647\n",
              "Model:                       SARIMAX(3, 1, 0)   Log Likelihood               -9612.137\n",
              "Date:                        Fri, 12 May 2023   AIC                          19232.275\n",
              "Time:                                20:26:03   BIC                          19257.080\n",
              "Sample:                                     0   HQIC                         19241.109\n",
              "                                       - 3647                                         \n",
              "Covariance Type:                          opg                                         \n",
              "==============================================================================\n",
              "                 coef    std err          z      P>|z|      [0.025      0.975]\n",
              "------------------------------------------------------------------------------\n",
              "ar.L1         -0.2906      0.015    -19.257      0.000      -0.320      -0.261\n",
              "ar.L2         -0.1721      0.015    -11.262      0.000      -0.202      -0.142\n",
              "ar.L3         -0.1215      0.016     -7.719      0.000      -0.152      -0.091\n",
              "sigma2        11.4141      0.224     51.061      0.000      10.976      11.852\n",
              "===================================================================================\n",
              "Ljung-Box (L1) (Q):                   0.77   Jarque-Bera (JB):               117.31\n",
              "Prob(Q):                              0.38   Prob(JB):                         0.00\n",
              "Heteroskedasticity (H):               0.87   Skew:                             0.01\n",
              "Prob(H) (two-sided):                  0.01   Kurtosis:                         3.88\n",
              "===================================================================================\n",
              "\n",
              "Warnings:\n",
              "[1] Covariance matrix calculated using the outer product of gradients (complex-step).\n",
              "\"\"\""
            ],
            "text/html": [
              "<table class=\"simpletable\">\n",
              "<caption>SARIMAX Results</caption>\n",
              "<tr>\n",
              "  <th>Dep. Variable:</th>   <td>Daily minimum temperatures</td> <th>  No. Observations:  </th>   <td>3647</td>   \n",
              "</tr>\n",
              "<tr>\n",
              "  <th>Model:</th>                <td>SARIMAX(3, 1, 0)</td>      <th>  Log Likelihood     </th> <td>-9612.137</td>\n",
              "</tr>\n",
              "<tr>\n",
              "  <th>Date:</th>                 <td>Fri, 12 May 2023</td>      <th>  AIC                </th> <td>19232.275</td>\n",
              "</tr>\n",
              "<tr>\n",
              "  <th>Time:</th>                     <td>20:26:03</td>          <th>  BIC                </th> <td>19257.080</td>\n",
              "</tr>\n",
              "<tr>\n",
              "  <th>Sample:</th>                       <td>0</td>             <th>  HQIC               </th> <td>19241.109</td>\n",
              "</tr>\n",
              "<tr>\n",
              "  <th></th>                           <td> - 3647</td>          <th>                     </th>     <td> </td>    \n",
              "</tr>\n",
              "<tr>\n",
              "  <th>Covariance Type:</th>             <td>opg</td>            <th>                     </th>     <td> </td>    \n",
              "</tr>\n",
              "</table>\n",
              "<table class=\"simpletable\">\n",
              "<tr>\n",
              "     <td></td>       <th>coef</th>     <th>std err</th>      <th>z</th>      <th>P>|z|</th>  <th>[0.025</th>    <th>0.975]</th>  \n",
              "</tr>\n",
              "<tr>\n",
              "  <th>ar.L1</th>  <td>   -0.2906</td> <td>    0.015</td> <td>  -19.257</td> <td> 0.000</td> <td>   -0.320</td> <td>   -0.261</td>\n",
              "</tr>\n",
              "<tr>\n",
              "  <th>ar.L2</th>  <td>   -0.1721</td> <td>    0.015</td> <td>  -11.262</td> <td> 0.000</td> <td>   -0.202</td> <td>   -0.142</td>\n",
              "</tr>\n",
              "<tr>\n",
              "  <th>ar.L3</th>  <td>   -0.1215</td> <td>    0.016</td> <td>   -7.719</td> <td> 0.000</td> <td>   -0.152</td> <td>   -0.091</td>\n",
              "</tr>\n",
              "<tr>\n",
              "  <th>sigma2</th> <td>   11.4141</td> <td>    0.224</td> <td>   51.061</td> <td> 0.000</td> <td>   10.976</td> <td>   11.852</td>\n",
              "</tr>\n",
              "</table>\n",
              "<table class=\"simpletable\">\n",
              "<tr>\n",
              "  <th>Ljung-Box (L1) (Q):</th>     <td>0.77</td> <th>  Jarque-Bera (JB):  </th> <td>117.31</td>\n",
              "</tr>\n",
              "<tr>\n",
              "  <th>Prob(Q):</th>                <td>0.38</td> <th>  Prob(JB):          </th>  <td>0.00</td> \n",
              "</tr>\n",
              "<tr>\n",
              "  <th>Heteroskedasticity (H):</th> <td>0.87</td> <th>  Skew:              </th>  <td>0.01</td> \n",
              "</tr>\n",
              "<tr>\n",
              "  <th>Prob(H) (two-sided):</th>    <td>0.01</td> <th>  Kurtosis:          </th>  <td>3.88</td> \n",
              "</tr>\n",
              "</table><br/><br/>Warnings:<br/>[1] Covariance matrix calculated using the outer product of gradients (complex-step)."
            ]
          },
          "metadata": {},
          "execution_count": 18
        }
      ]
    },
    {
      "cell_type": "code",
      "source": [
        "# Vamos realizar um \"backtesting\" com predições de valores dos 12 meses anteriores\n",
        "predicoes = resultado_sarimax.get_prediction(start=-60)\n",
        "predicao_media = predicoes.predicted_mean"
      ],
      "metadata": {
        "id": "ICu5KDCEzscR"
      },
      "execution_count": 19,
      "outputs": []
    },
    {
      "cell_type": "code",
      "source": [
        "# intervalo de confiança\n",
        "\n",
        "intervalo_confianca = predicoes.conf_int()\n",
        "limites_abaixo = intervalo_confianca.iloc[:,0]\n",
        "limites_acima = intervalo_confianca.iloc[:,1]\n",
        "\n",
        "limites_abaixo[0], limites_acima[0]"
      ],
      "metadata": {
        "colab": {
          "base_uri": "https://localhost:8080/"
        },
        "id": "KpGavIrKzwEh",
        "outputId": "82509860-2ddf-4a8a-e5fd-6aad7c0dc9ce"
      },
      "execution_count": 20,
      "outputs": [
        {
          "output_type": "execute_result",
          "data": {
            "text/plain": [
              "(13.215902333969314, 26.45930394097881)"
            ]
          },
          "metadata": {},
          "execution_count": 20
        }
      ]
    },
    {
      "cell_type": "code",
      "source": [
        "predicao_media[0]"
      ],
      "metadata": {
        "colab": {
          "base_uri": "https://localhost:8080/"
        },
        "id": "oSoYwryzzx18",
        "outputId": "db87823c-4e3f-4b19-a589-28f2bb02c7a2"
      },
      "execution_count": 21,
      "outputs": [
        {
          "output_type": "execute_result",
          "data": {
            "text/plain": [
              "19.837603137474062"
            ]
          },
          "metadata": {},
          "execution_count": 21
        }
      ]
    },
    {
      "cell_type": "code",
      "source": [
        "datas_previsao = np.asarray(predicao_media.index)\n",
        "datas = np.asarray(df.index)"
      ],
      "metadata": {
        "id": "l6lCWLBdzzsQ"
      },
      "execution_count": 22,
      "outputs": []
    },
    {
      "cell_type": "code",
      "source": [
        "plt.figure(figsize=(10,6))\n",
        "plt.plot(datas_previsao,predicao_media.values,color='red',label='prediction')\n",
        "plt.fill_between(datas_previsao, limites_abaixo, limites_acima, color='red')\n",
        "plt.plot(datas, df.values, label='real')\n",
        "plt.legend()\n",
        "plt.show()"
      ],
      "metadata": {
        "colab": {
          "base_uri": "https://localhost:8080/",
          "height": 522
        },
        "id": "xJwZD3ocz1eU",
        "outputId": "2ad997b4-2f86-462a-a383-3e68f49fe5f5"
      },
      "execution_count": 23,
      "outputs": [
        {
          "output_type": "display_data",
          "data": {
            "text/plain": [
              "<Figure size 1000x600 with 1 Axes>"
            ],
            "image/png": "[encoded data removed]"
          },
          "metadata": {}
        }
      ]
    },
    {
      "cell_type": "code",
      "source": [
        "from sklearn.metrics import mean_squared_error\n",
        "from math import sqrt\n",
        "\n",
        "rmse_sarima = sqrt(mean_squared_error(df[-60:].values,predicao_media.values))\n",
        "print(rmse_sarima)"
      ],
      "metadata": {
        "colab": {
          "base_uri": "https://localhost:8080/"
        },
        "id": "xwpEgeAMz3xM",
        "outputId": "39364175-5f5f-41b3-c878-33c674e46141"
      },
      "execution_count": 24,
      "outputs": [
        {
          "output_type": "stream",
          "name": "stdout",
          "text": [
            "3.012457329818421\n"
          ]
        }
      ]
    },
    {
      "cell_type": "markdown",
      "source": [
        "## Prevendo com XGBoost"
      ],
      "metadata": {
        "id": "iUOP3HMX1sjN"
      }
    },
    {
      "cell_type": "code",
      "source": [
        "from xgboost import XGBRegressor"
      ],
      "metadata": {
        "id": "P2q49iTF0lqY"
      },
      "execution_count": 25,
      "outputs": []
    },
    {
      "cell_type": "code",
      "source": [
        "treino = df.loc[df.index <= '1988-12-31']\n",
        "validacao = df.loc[df.index > '1989-01-01']\n",
        "\n",
        "treino.shape, validacao.shape"
      ],
      "metadata": {
        "colab": {
          "base_uri": "https://localhost:8080/"
        },
        "id": "8stH9Tpz1urj",
        "outputId": "a6ac8dd8-c0c6-4db3-8e21-a176ef64e00b"
      },
      "execution_count": 26,
      "outputs": [
        {
          "output_type": "execute_result",
          "data": {
            "text/plain": [
              "((2917, 1), (729, 1))"
            ]
          },
          "metadata": {},
          "execution_count": 26
        }
      ]
    },
    {
      "cell_type": "code",
      "source": [
        "treino.index.min(), treino.index.max()"
      ],
      "metadata": {
        "colab": {
          "base_uri": "https://localhost:8080/"
        },
        "id": "5dxRe6iw15YY",
        "outputId": "9212299e-400b-4606-ec51-36df5fdd9876"
      },
      "execution_count": 27,
      "outputs": [
        {
          "output_type": "execute_result",
          "data": {
            "text/plain": [
              "(Timestamp('1981-01-01 00:00:00'), Timestamp('1988-12-30 00:00:00'))"
            ]
          },
          "metadata": {},
          "execution_count": 27
        }
      ]
    },
    {
      "cell_type": "code",
      "source": [
        "validacao.index.min(), validacao.index.max()"
      ],
      "metadata": {
        "colab": {
          "base_uri": "https://localhost:8080/"
        },
        "id": "QgH8eHkz17xW",
        "outputId": "811b62a8-1d58-4486-aebd-7f5e4895dba3"
      },
      "execution_count": 28,
      "outputs": [
        {
          "output_type": "execute_result",
          "data": {
            "text/plain": [
              "(Timestamp('1989-01-02 00:00:00'), Timestamp('1990-12-31 00:00:00'))"
            ]
          },
          "metadata": {},
          "execution_count": 28
        }
      ]
    },
    {
      "cell_type": "code",
      "source": [
        "treino['Daily minimum temperatures']"
      ],
      "metadata": {
        "colab": {
          "base_uri": "https://localhost:8080/"
        },
        "id": "Epz9gEyO19wM",
        "outputId": "e629ebfd-670f-45d2-f847-083c53c692f3"
      },
      "execution_count": 29,
      "outputs": [
        {
          "output_type": "execute_result",
          "data": {
            "text/plain": [
              "Date\n",
              "1981-01-01    20.7\n",
              "1981-01-02    15.3\n",
              "1981-01-03    17.8\n",
              "1981-01-04    16.7\n",
              "1981-01-05     8.6\n",
              "              ... \n",
              "1988-12-26     9.5\n",
              "1988-12-27    12.9\n",
              "1988-12-28    12.9\n",
              "1988-12-29    14.8\n",
              "1988-12-30    14.1\n",
              "Name: Daily minimum temperatures, Length: 2917, dtype: float64"
            ]
          },
          "metadata": {},
          "execution_count": 29
        }
      ]
    },
    {
      "cell_type": "code",
      "source": [
        "treino['Daily minimum temperatures'].shift(-1)"
      ],
      "metadata": {
        "colab": {
          "base_uri": "https://localhost:8080/"
        },
        "id": "BGgDmh9y2HkU",
        "outputId": "a71e4490-1334-4628-bebc-af7a7aa6e58a"
      },
      "execution_count": 30,
      "outputs": [
        {
          "output_type": "execute_result",
          "data": {
            "text/plain": [
              "Date\n",
              "1981-01-01    15.3\n",
              "1981-01-02    17.8\n",
              "1981-01-03    16.7\n",
              "1981-01-04     8.6\n",
              "1981-01-05    11.6\n",
              "              ... \n",
              "1988-12-26    12.9\n",
              "1988-12-27    12.9\n",
              "1988-12-28    14.8\n",
              "1988-12-29    14.1\n",
              "1988-12-30     NaN\n",
              "Name: Daily minimum temperatures, Length: 2917, dtype: float64"
            ]
          },
          "metadata": {},
          "execution_count": 30
        }
      ]
    },
    {
      "cell_type": "code",
      "source": [
        "treino['target'] = treino['Daily minimum temperatures'].shift(-1)\n",
        "treino.head()"
      ],
      "metadata": {
        "id": "boWfowTP2Lqk"
      },
      "execution_count": null,
      "outputs": []
    },
    {
      "cell_type": "code",
      "source": [
        "treino.tail()"
      ],
      "metadata": {
        "colab": {
          "base_uri": "https://localhost:8080/",
          "height": 238
        },
        "id": "hznO18RF2O_6",
        "outputId": "20930c97-9dfb-4997-deaf-00080e7a783f"
      },
      "execution_count": 32,
      "outputs": [
        {
          "output_type": "execute_result",
          "data": {
            "text/plain": [
              "            Daily minimum temperatures  target\n",
              "Date                                          \n",
              "1988-12-26                         9.5    12.9\n",
              "1988-12-27                        12.9    12.9\n",
              "1988-12-28                        12.9    14.8\n",
              "1988-12-29                        14.8    14.1\n",
              "1988-12-30                        14.1     NaN"
            ],
            "text/html": [
              "\n",
              "  <div id=\"df-86bd9f52-005d-478a-83a9-eb5adac99624\">\n",
              "    <div class=\"colab-df-container\">\n",
              "      <div>\n",
              "<style scoped>\n",
              "    .dataframe tbody tr th:only-of-type {\n",
              "        vertical-align: middle;\n",
              "    }\n",
              "\n",
              "    .dataframe tbody tr th {\n",
              "        vertical-align: top;\n",
              "    }\n",
              "\n",
              "    .dataframe thead th {\n",
              "        text-align: right;\n",
              "    }\n",
              "</style>\n",
              "<table border=\"1\" class=\"dataframe\">\n",
              "  <thead>\n",
              "    <tr style=\"text-align: right;\">\n",
              "      <th></th>\n",
              "      <th>Daily minimum temperatures</th>\n",
              "      <th>target</th>\n",
              "    </tr>\n",
              "    <tr>\n",
              "      <th>Date</th>\n",
              "      <th></th>\n",
              "      <th></th>\n",
              "    </tr>\n",
              "  </thead>\n",
              "  <tbody>\n",
              "    <tr>\n",
              "      <th>1988-12-26</th>\n",
              "      <td>9.5</td>\n",
              "      <td>12.9</td>\n",
              "    </tr>\n",
              "    <tr>\n",
              "      <th>1988-12-27</th>\n",
              "      <td>12.9</td>\n",
              "      <td>12.9</td>\n",
              "    </tr>\n",
              "    <tr>\n",
              "      <th>1988-12-28</th>\n",
              "      <td>12.9</td>\n",
              "      <td>14.8</td>\n",
              "    </tr>\n",
              "    <tr>\n",
              "      <th>1988-12-29</th>\n",
              "      <td>14.8</td>\n",
              "      <td>14.1</td>\n",
              "    </tr>\n",
              "    <tr>\n",
              "      <th>1988-12-30</th>\n",
              "      <td>14.1</td>\n",
              "      <td>NaN</td>\n",
              "    </tr>\n",
              "  </tbody>\n",
              "</table>\n",
              "</div>\n",
              "      <button class=\"colab-df-convert\" onclick=\"convertToInteractive('df-86bd9f52-005d-478a-83a9-eb5adac99624')\"\n",
              "              title=\"Convert this dataframe to an interactive table.\"\n",
              "              style=\"display:none;\">\n",
              "        \n",
              "  <svg xmlns=\"http://www.w3.org/2000/svg\" height=\"24px\"viewBox=\"0 0 24 24\"\n",
              "       width=\"24px\">\n",
              "    <path d=\"M0 0h24v24H0V0z\" fill=\"none\"/>\n",
              "    <path d=\"M18.56 5.44l.94 2.06.94-2.06 2.06-.94-2.06-.94-.94-2.06-.94 2.06-2.06.94zm-11 1L8.5 8.5l.94-2.06 2.06-.94-2.06-.94L8.5 2.5l-.94 2.06-2.06.94zm10 10l.94 2.06.94-2.06 2.06-.94-2.06-.94-.94-2.06-.94 2.06-2.06.94z\"/><path d=\"M17.41 7.96l-1.37-1.37c-.4-.4-.92-.59-1.43-.59-.52 0-1.04.2-1.43.59L10.3 9.45l-7.72 7.72c-.78.78-.78 2.05 0 2.83L4 21.41c.39.39.9.59 1.41.59.51 0 1.02-.2 1.41-.59l7.78-7.78 2.81-2.81c.8-.78.8-2.07 0-2.86zM5.41 20L4 18.59l7.72-7.72 1.47 1.35L5.41 20z\"/>\n",
              "  </svg>\n",
              "      </button>\n",
              "      \n",
              "  <style>\n",
              "    .colab-df-container {\n",
              "      display:flex;\n",
              "      flex-wrap:wrap;\n",
              "      gap: 12px;\n",
              "    }\n",
              "\n",
              "    .colab-df-convert {\n",
              "      background-color: #E8F0FE;\n",
              "      border: none;\n",
              "      border-radius: 50%;\n",
              "      cursor: pointer;\n",
              "      display: none;\n",
              "      fill: #1967D2;\n",
              "      height: 32px;\n",
              "      padding: 0 0 0 0;\n",
              "      width: 32px;\n",
              "    }\n",
              "\n",
              "    .colab-df-convert:hover {\n",
              "      background-color: #E2EBFA;\n",
              "      box-shadow: 0px 1px 2px rgba(60, 64, 67, 0.3), 0px 1px 3px 1px rgba(60, 64, 67, 0.15);\n",
              "      fill: #174EA6;\n",
              "    }\n",
              "\n",
              "    [theme=dark] .colab-df-convert {\n",
              "      background-color: #3B4455;\n",
              "      fill: #D2E3FC;\n",
              "    }\n",
              "\n",
              "    [theme=dark] .colab-df-convert:hover {\n",
              "      background-color: #434B5C;\n",
              "      box-shadow: 0px 1px 3px 1px rgba(0, 0, 0, 0.15);\n",
              "      filter: drop-shadow(0px 1px 2px rgba(0, 0, 0, 0.3));\n",
              "      fill: #FFFFFF;\n",
              "    }\n",
              "  </style>\n",
              "\n",
              "      <script>\n",
              "        const buttonEl =\n",
              "          document.querySelector('#df-86bd9f52-005d-478a-83a9-eb5adac99624 button.colab-df-convert');\n",
              "        buttonEl.style.display =\n",
              "          google.colab.kernel.accessAllowed ? 'block' : 'none';\n",
              "\n",
              "        async function convertToInteractive(key) {\n",
              "          const element = document.querySelector('#df-86bd9f52-005d-478a-83a9-eb5adac99624');\n",
              "          const dataTable =\n",
              "            await google.colab.kernel.invokeFunction('convertToInteractive',\n",
              "                                                     [key], {});\n",
              "          if (!dataTable) return;\n",
              "\n",
              "          const docLinkHtml = 'Like what you see? Visit the ' +\n",
              "            '<a target=\"_blank\" href=https://colab.research.google.com/notebooks/data_table.ipynb>data table notebook</a>'\n",
              "            + ' to learn more about interactive tables.';\n",
              "          element.innerHTML = '';\n",
              "          dataTable['output_type'] = 'display_data';\n",
              "          await google.colab.output.renderOutput(dataTable, element);\n",
              "          const docLink = document.createElement('div');\n",
              "          docLink.innerHTML = docLinkHtml;\n",
              "          element.appendChild(docLink);\n",
              "        }\n",
              "      </script>\n",
              "    </div>\n",
              "  </div>\n",
              "  "
            ]
          },
          "metadata": {},
          "execution_count": 32
        }
      ]
    },
    {
      "cell_type": "code",
      "source": [
        "treino = treino.dropna()\n",
        "treino.tail()"
      ],
      "metadata": {
        "colab": {
          "base_uri": "https://localhost:8080/",
          "height": 238
        },
        "id": "VTb9KcjN2RJM",
        "outputId": "0adc222b-2b77-4ad0-e946-f9fe7de67e6f"
      },
      "execution_count": 33,
      "outputs": [
        {
          "output_type": "execute_result",
          "data": {
            "text/plain": [
              "            Daily minimum temperatures  target\n",
              "Date                                          \n",
              "1988-12-25                        15.8     9.5\n",
              "1988-12-26                         9.5    12.9\n",
              "1988-12-27                        12.9    12.9\n",
              "1988-12-28                        12.9    14.8\n",
              "1988-12-29                        14.8    14.1"
            ],
            "text/html": [
              "\n",
              "  <div id=\"df-d14ecb03-9e09-4258-ad15-0a84375915fa\">\n",
              "    <div class=\"colab-df-container\">\n",
              "      <div>\n",
              "<style scoped>\n",
              "    .dataframe tbody tr th:only-of-type {\n",
              "        vertical-align: middle;\n",
              "    }\n",
              "\n",
              "    .dataframe tbody tr th {\n",
              "        vertical-align: top;\n",
              "    }\n",
              "\n",
              "    .dataframe thead th {\n",
              "        text-align: right;\n",
              "    }\n",
              "</style>\n",
              "<table border=\"1\" class=\"dataframe\">\n",
              "  <thead>\n",
              "    <tr style=\"text-align: right;\">\n",
              "      <th></th>\n",
              "      <th>Daily minimum temperatures</th>\n",
              "      <th>target</th>\n",
              "    </tr>\n",
              "    <tr>\n",
              "      <th>Date</th>\n",
              "      <th></th>\n",
              "      <th></th>\n",
              "    </tr>\n",
              "  </thead>\n",
              "  <tbody>\n",
              "    <tr>\n",
              "      <th>1988-12-25</th>\n",
              "      <td>15.8</td>\n",
              "      <td>9.5</td>\n",
              "    </tr>\n",
              "    <tr>\n",
              "      <th>1988-12-26</th>\n",
              "      <td>9.5</td>\n",
              "      <td>12.9</td>\n",
              "    </tr>\n",
              "    <tr>\n",
              "      <th>1988-12-27</th>\n",
              "      <td>12.9</td>\n",
              "      <td>12.9</td>\n",
              "    </tr>\n",
              "    <tr>\n",
              "      <th>1988-12-28</th>\n",
              "      <td>12.9</td>\n",
              "      <td>14.8</td>\n",
              "    </tr>\n",
              "    <tr>\n",
              "      <th>1988-12-29</th>\n",
              "      <td>14.8</td>\n",
              "      <td>14.1</td>\n",
              "    </tr>\n",
              "  </tbody>\n",
              "</table>\n",
              "</div>\n",
              "      <button class=\"colab-df-convert\" onclick=\"convertToInteractive('df-d14ecb03-9e09-4258-ad15-0a84375915fa')\"\n",
              "              title=\"Convert this dataframe to an interactive table.\"\n",
              "              style=\"display:none;\">\n",
              "        \n",
              "  <svg xmlns=\"http://www.w3.org/2000/svg\" height=\"24px\"viewBox=\"0 0 24 24\"\n",
              "       width=\"24px\">\n",
              "    <path d=\"M0 0h24v24H0V0z\" fill=\"none\"/>\n",
              "    <path d=\"M18.56 5.44l.94 2.06.94-2.06 2.06-.94-2.06-.94-.94-2.06-.94 2.06-2.06.94zm-11 1L8.5 8.5l.94-2.06 2.06-.94-2.06-.94L8.5 2.5l-.94 2.06-2.06.94zm10 10l.94 2.06.94-2.06 2.06-.94-2.06-.94-.94-2.06-.94 2.06-2.06.94z\"/><path d=\"M17.41 7.96l-1.37-1.37c-.4-.4-.92-.59-1.43-.59-.52 0-1.04.2-1.43.59L10.3 9.45l-7.72 7.72c-.78.78-.78 2.05 0 2.83L4 21.41c.39.39.9.59 1.41.59.51 0 1.02-.2 1.41-.59l7.78-7.78 2.81-2.81c.8-.78.8-2.07 0-2.86zM5.41 20L4 18.59l7.72-7.72 1.47 1.35L5.41 20z\"/>\n",
              "  </svg>\n",
              "      </button>\n",
              "      \n",
              "  <style>\n",
              "    .colab-df-container {\n",
              "      display:flex;\n",
              "      flex-wrap:wrap;\n",
              "      gap: 12px;\n",
              "    }\n",
              "\n",
              "    .colab-df-convert {\n",
              "      background-color: #E8F0FE;\n",
              "      border: none;\n",
              "      border-radius: 50%;\n",
              "      cursor: pointer;\n",
              "      display: none;\n",
              "      fill: #1967D2;\n",
              "      height: 32px;\n",
              "      padding: 0 0 0 0;\n",
              "      width: 32px;\n",
              "    }\n",
              "\n",
              "    .colab-df-convert:hover {\n",
              "      background-color: #E2EBFA;\n",
              "      box-shadow: 0px 1px 2px rgba(60, 64, 67, 0.3), 0px 1px 3px 1px rgba(60, 64, 67, 0.15);\n",
              "      fill: #174EA6;\n",
              "    }\n",
              "\n",
              "    [theme=dark] .colab-df-convert {\n",
              "      background-color: #3B4455;\n",
              "      fill: #D2E3FC;\n",
              "    }\n",
              "\n",
              "    [theme=dark] .colab-df-convert:hover {\n",
              "      background-color: #434B5C;\n",
              "      box-shadow: 0px 1px 3px 1px rgba(0, 0, 0, 0.15);\n",
              "      filter: drop-shadow(0px 1px 2px rgba(0, 0, 0, 0.3));\n",
              "      fill: #FFFFFF;\n",
              "    }\n",
              "  </style>\n",
              "\n",
              "      <script>\n",
              "        const buttonEl =\n",
              "          document.querySelector('#df-d14ecb03-9e09-4258-ad15-0a84375915fa button.colab-df-convert');\n",
              "        buttonEl.style.display =\n",
              "          google.colab.kernel.accessAllowed ? 'block' : 'none';\n",
              "\n",
              "        async function convertToInteractive(key) {\n",
              "          const element = document.querySelector('#df-d14ecb03-9e09-4258-ad15-0a84375915fa');\n",
              "          const dataTable =\n",
              "            await google.colab.kernel.invokeFunction('convertToInteractive',\n",
              "                                                     [key], {});\n",
              "          if (!dataTable) return;\n",
              "\n",
              "          const docLinkHtml = 'Like what you see? Visit the ' +\n",
              "            '<a target=\"_blank\" href=https://colab.research.google.com/notebooks/data_table.ipynb>data table notebook</a>'\n",
              "            + ' to learn more about interactive tables.';\n",
              "          element.innerHTML = '';\n",
              "          dataTable['output_type'] = 'display_data';\n",
              "          await google.colab.output.renderOutput(dataTable, element);\n",
              "          const docLink = document.createElement('div');\n",
              "          docLink.innerHTML = docLinkHtml;\n",
              "          element.appendChild(docLink);\n",
              "        }\n",
              "      </script>\n",
              "    </div>\n",
              "  </div>\n",
              "  "
            ]
          },
          "metadata": {},
          "execution_count": 33
        }
      ]
    },
    {
      "cell_type": "code",
      "source": [
        "validacao['target'] = validacao['Daily minimum temperatures'].shift(-1)\n",
        "validacao.head()"
      ],
      "metadata": {
        "colab": {
          "base_uri": "https://localhost:8080/",
          "height": 342
        },
        "id": "5CCsV-iZ2SsD",
        "outputId": "5bd21b67-e94e-4e54-b0dc-619f475007e2"
      },
      "execution_count": 34,
      "outputs": [
        {
          "output_type": "stream",
          "name": "stderr",
          "text": [
            "<ipython-input-34-2c30723a2fe4>:1: SettingWithCopyWarning: \n",
            "A value is trying to be set on a copy of a slice from a DataFrame.\n",
            "Try using .loc[row_indexer,col_indexer] = value instead\n",
            "\n",
            "See the caveats in the documentation: https://pandas.pydata.org/pandas-docs/stable/user_guide/indexing.html#returning-a-view-versus-a-copy\n",
            "  validacao['target'] = validacao['Daily minimum temperatures'].shift(-1)\n"
          ]
        },
        {
          "output_type": "execute_result",
          "data": {
            "text/plain": [
              "            Daily minimum temperatures  target\n",
              "Date                                          \n",
              "1989-01-02                        16.1    20.4\n",
              "1989-01-03                        20.4    13.3\n",
              "1989-01-04                        13.3    14.2\n",
              "1989-01-05                        14.2     2.3\n",
              "1989-01-06                         2.3     6.0"
            ],
            "text/html": [
              "\n",
              "  <div id=\"df-71071c25-9192-4dcb-8807-653a96308896\">\n",
              "    <div class=\"colab-df-container\">\n",
              "      <div>\n",
              "<style scoped>\n",
              "    .dataframe tbody tr th:only-of-type {\n",
              "        vertical-align: middle;\n",
              "    }\n",
              "\n",
              "    .dataframe tbody tr th {\n",
              "        vertical-align: top;\n",
              "    }\n",
              "\n",
              "    .dataframe thead th {\n",
              "        text-align: right;\n",
              "    }\n",
              "</style>\n",
              "<table border=\"1\" class=\"dataframe\">\n",
              "  <thead>\n",
              "    <tr style=\"text-align: right;\">\n",
              "      <th></th>\n",
              "      <th>Daily minimum temperatures</th>\n",
              "      <th>target</th>\n",
              "    </tr>\n",
              "    <tr>\n",
              "      <th>Date</th>\n",
              "      <th></th>\n",
              "      <th></th>\n",
              "    </tr>\n",
              "  </thead>\n",
              "  <tbody>\n",
              "    <tr>\n",
              "      <th>1989-01-02</th>\n",
              "      <td>16.1</td>\n",
              "      <td>20.4</td>\n",
              "    </tr>\n",
              "    <tr>\n",
              "      <th>1989-01-03</th>\n",
              "      <td>20.4</td>\n",
              "      <td>13.3</td>\n",
              "    </tr>\n",
              "    <tr>\n",
              "      <th>1989-01-04</th>\n",
              "      <td>13.3</td>\n",
              "      <td>14.2</td>\n",
              "    </tr>\n",
              "    <tr>\n",
              "      <th>1989-01-05</th>\n",
              "      <td>14.2</td>\n",
              "      <td>2.3</td>\n",
              "    </tr>\n",
              "    <tr>\n",
              "      <th>1989-01-06</th>\n",
              "      <td>2.3</td>\n",
              "      <td>6.0</td>\n",
              "    </tr>\n",
              "  </tbody>\n",
              "</table>\n",
              "</div>\n",
              "      <button class=\"colab-df-convert\" onclick=\"convertToInteractive('df-71071c25-9192-4dcb-8807-653a96308896')\"\n",
              "              title=\"Convert this dataframe to an interactive table.\"\n",
              "              style=\"display:none;\">\n",
              "        \n",
              "  <svg xmlns=\"http://www.w3.org/2000/svg\" height=\"24px\"viewBox=\"0 0 24 24\"\n",
              "       width=\"24px\">\n",
              "    <path d=\"M0 0h24v24H0V0z\" fill=\"none\"/>\n",
              "    <path d=\"M18.56 5.44l.94 2.06.94-2.06 2.06-.94-2.06-.94-.94-2.06-.94 2.06-2.06.94zm-11 1L8.5 8.5l.94-2.06 2.06-.94-2.06-.94L8.5 2.5l-.94 2.06-2.06.94zm10 10l.94 2.06.94-2.06 2.06-.94-2.06-.94-.94-2.06-.94 2.06-2.06.94z\"/><path d=\"M17.41 7.96l-1.37-1.37c-.4-.4-.92-.59-1.43-.59-.52 0-1.04.2-1.43.59L10.3 9.45l-7.72 7.72c-.78.78-.78 2.05 0 2.83L4 21.41c.39.39.9.59 1.41.59.51 0 1.02-.2 1.41-.59l7.78-7.78 2.81-2.81c.8-.78.8-2.07 0-2.86zM5.41 20L4 18.59l7.72-7.72 1.47 1.35L5.41 20z\"/>\n",
              "  </svg>\n",
              "      </button>\n",
              "      \n",
              "  <style>\n",
              "    .colab-df-container {\n",
              "      display:flex;\n",
              "      flex-wrap:wrap;\n",
              "      gap: 12px;\n",
              "    }\n",
              "\n",
              "    .colab-df-convert {\n",
              "      background-color: #E8F0FE;\n",
              "      border: none;\n",
              "      border-radius: 50%;\n",
              "      cursor: pointer;\n",
              "      display: none;\n",
              "      fill: #1967D2;\n",
              "      height: 32px;\n",
              "      padding: 0 0 0 0;\n",
              "      width: 32px;\n",
              "    }\n",
              "\n",
              "    .colab-df-convert:hover {\n",
              "      background-color: #E2EBFA;\n",
              "      box-shadow: 0px 1px 2px rgba(60, 64, 67, 0.3), 0px 1px 3px 1px rgba(60, 64, 67, 0.15);\n",
              "      fill: #174EA6;\n",
              "    }\n",
              "\n",
              "    [theme=dark] .colab-df-convert {\n",
              "      background-color: #3B4455;\n",
              "      fill: #D2E3FC;\n",
              "    }\n",
              "\n",
              "    [theme=dark] .colab-df-convert:hover {\n",
              "      background-color: #434B5C;\n",
              "      box-shadow: 0px 1px 3px 1px rgba(0, 0, 0, 0.15);\n",
              "      filter: drop-shadow(0px 1px 2px rgba(0, 0, 0, 0.3));\n",
              "      fill: #FFFFFF;\n",
              "    }\n",
              "  </style>\n",
              "\n",
              "      <script>\n",
              "        const buttonEl =\n",
              "          document.querySelector('#df-71071c25-9192-4dcb-8807-653a96308896 button.colab-df-convert');\n",
              "        buttonEl.style.display =\n",
              "          google.colab.kernel.accessAllowed ? 'block' : 'none';\n",
              "\n",
              "        async function convertToInteractive(key) {\n",
              "          const element = document.querySelector('#df-71071c25-9192-4dcb-8807-653a96308896');\n",
              "          const dataTable =\n",
              "            await google.colab.kernel.invokeFunction('convertToInteractive',\n",
              "                                                     [key], {});\n",
              "          if (!dataTable) return;\n",
              "\n",
              "          const docLinkHtml = 'Like what you see? Visit the ' +\n",
              "            '<a target=\"_blank\" href=https://colab.research.google.com/notebooks/data_table.ipynb>data table notebook</a>'\n",
              "            + ' to learn more about interactive tables.';\n",
              "          element.innerHTML = '';\n",
              "          dataTable['output_type'] = 'display_data';\n",
              "          await google.colab.output.renderOutput(dataTable, element);\n",
              "          const docLink = document.createElement('div');\n",
              "          docLink.innerHTML = docLinkHtml;\n",
              "          element.appendChild(docLink);\n",
              "        }\n",
              "      </script>\n",
              "    </div>\n",
              "  </div>\n",
              "  "
            ]
          },
          "metadata": {},
          "execution_count": 34
        }
      ]
    },
    {
      "cell_type": "code",
      "source": [
        "validacao.tail()"
      ],
      "metadata": {
        "colab": {
          "base_uri": "https://localhost:8080/",
          "height": 238
        },
        "id": "gRZmTidl2Xu8",
        "outputId": "17e42098-6a56-4cc0-f539-c9ce8d0a83be"
      },
      "execution_count": 35,
      "outputs": [
        {
          "output_type": "execute_result",
          "data": {
            "text/plain": [
              "            Daily minimum temperatures  target\n",
              "Date                                          \n",
              "1990-12-27                        14.0    13.6\n",
              "1990-12-28                        13.6    13.5\n",
              "1990-12-29                        13.5    15.7\n",
              "1990-12-30                        15.7    13.0\n",
              "1990-12-31                        13.0     NaN"
            ],
            "text/html": [
              "\n",
              "  <div id=\"df-440a6052-78ca-405c-b6b8-ecb9177ce4ab\">\n",
              "    <div class=\"colab-df-container\">\n",
              "      <div>\n",
              "<style scoped>\n",
              "    .dataframe tbody tr th:only-of-type {\n",
              "        vertical-align: middle;\n",
              "    }\n",
              "\n",
              "    .dataframe tbody tr th {\n",
              "        vertical-align: top;\n",
              "    }\n",
              "\n",
              "    .dataframe thead th {\n",
              "        text-align: right;\n",
              "    }\n",
              "</style>\n",
              "<table border=\"1\" class=\"dataframe\">\n",
              "  <thead>\n",
              "    <tr style=\"text-align: right;\">\n",
              "      <th></th>\n",
              "      <th>Daily minimum temperatures</th>\n",
              "      <th>target</th>\n",
              "    </tr>\n",
              "    <tr>\n",
              "      <th>Date</th>\n",
              "      <th></th>\n",
              "      <th></th>\n",
              "    </tr>\n",
              "  </thead>\n",
              "  <tbody>\n",
              "    <tr>\n",
              "      <th>1990-12-27</th>\n",
              "      <td>14.0</td>\n",
              "      <td>13.6</td>\n",
              "    </tr>\n",
              "    <tr>\n",
              "      <th>1990-12-28</th>\n",
              "      <td>13.6</td>\n",
              "      <td>13.5</td>\n",
              "    </tr>\n",
              "    <tr>\n",
              "      <th>1990-12-29</th>\n",
              "      <td>13.5</td>\n",
              "      <td>15.7</td>\n",
              "    </tr>\n",
              "    <tr>\n",
              "      <th>1990-12-30</th>\n",
              "      <td>15.7</td>\n",
              "      <td>13.0</td>\n",
              "    </tr>\n",
              "    <tr>\n",
              "      <th>1990-12-31</th>\n",
              "      <td>13.0</td>\n",
              "      <td>NaN</td>\n",
              "    </tr>\n",
              "  </tbody>\n",
              "</table>\n",
              "</div>\n",
              "      <button class=\"colab-df-convert\" onclick=\"convertToInteractive('df-440a6052-78ca-405c-b6b8-ecb9177ce4ab')\"\n",
              "              title=\"Convert this dataframe to an interactive table.\"\n",
              "              style=\"display:none;\">\n",
              "        \n",
              "  <svg xmlns=\"http://www.w3.org/2000/svg\" height=\"24px\"viewBox=\"0 0 24 24\"\n",
              "       width=\"24px\">\n",
              "    <path d=\"M0 0h24v24H0V0z\" fill=\"none\"/>\n",
              "    <path d=\"M18.56 5.44l.94 2.06.94-2.06 2.06-.94-2.06-.94-.94-2.06-.94 2.06-2.06.94zm-11 1L8.5 8.5l.94-2.06 2.06-.94-2.06-.94L8.5 2.5l-.94 2.06-2.06.94zm10 10l.94 2.06.94-2.06 2.06-.94-2.06-.94-.94-2.06-.94 2.06-2.06.94z\"/><path d=\"M17.41 7.96l-1.37-1.37c-.4-.4-.92-.59-1.43-.59-.52 0-1.04.2-1.43.59L10.3 9.45l-7.72 7.72c-.78.78-.78 2.05 0 2.83L4 21.41c.39.39.9.59 1.41.59.51 0 1.02-.2 1.41-.59l7.78-7.78 2.81-2.81c.8-.78.8-2.07 0-2.86zM5.41 20L4 18.59l7.72-7.72 1.47 1.35L5.41 20z\"/>\n",
              "  </svg>\n",
              "      </button>\n",
              "      \n",
              "  <style>\n",
              "    .colab-df-container {\n",
              "      display:flex;\n",
              "      flex-wrap:wrap;\n",
              "      gap: 12px;\n",
              "    }\n",
              "\n",
              "    .colab-df-convert {\n",
              "      background-color: #E8F0FE;\n",
              "      border: none;\n",
              "      border-radius: 50%;\n",
              "      cursor: pointer;\n",
              "      display: none;\n",
              "      fill: #1967D2;\n",
              "      height: 32px;\n",
              "      padding: 0 0 0 0;\n",
              "      width: 32px;\n",
              "    }\n",
              "\n",
              "    .colab-df-convert:hover {\n",
              "      background-color: #E2EBFA;\n",
              "      box-shadow: 0px 1px 2px rgba(60, 64, 67, 0.3), 0px 1px 3px 1px rgba(60, 64, 67, 0.15);\n",
              "      fill: #174EA6;\n",
              "    }\n",
              "\n",
              "    [theme=dark] .colab-df-convert {\n",
              "      background-color: #3B4455;\n",
              "      fill: #D2E3FC;\n",
              "    }\n",
              "\n",
              "    [theme=dark] .colab-df-convert:hover {\n",
              "      background-color: #434B5C;\n",
              "      box-shadow: 0px 1px 3px 1px rgba(0, 0, 0, 0.15);\n",
              "      filter: drop-shadow(0px 1px 2px rgba(0, 0, 0, 0.3));\n",
              "      fill: #FFFFFF;\n",
              "    }\n",
              "  </style>\n",
              "\n",
              "      <script>\n",
              "        const buttonEl =\n",
              "          document.querySelector('#df-440a6052-78ca-405c-b6b8-ecb9177ce4ab button.colab-df-convert');\n",
              "        buttonEl.style.display =\n",
              "          google.colab.kernel.accessAllowed ? 'block' : 'none';\n",
              "\n",
              "        async function convertToInteractive(key) {\n",
              "          const element = document.querySelector('#df-440a6052-78ca-405c-b6b8-ecb9177ce4ab');\n",
              "          const dataTable =\n",
              "            await google.colab.kernel.invokeFunction('convertToInteractive',\n",
              "                                                     [key], {});\n",
              "          if (!dataTable) return;\n",
              "\n",
              "          const docLinkHtml = 'Like what you see? Visit the ' +\n",
              "            '<a target=\"_blank\" href=https://colab.research.google.com/notebooks/data_table.ipynb>data table notebook</a>'\n",
              "            + ' to learn more about interactive tables.';\n",
              "          element.innerHTML = '';\n",
              "          dataTable['output_type'] = 'display_data';\n",
              "          await google.colab.output.renderOutput(dataTable, element);\n",
              "          const docLink = document.createElement('div');\n",
              "          docLink.innerHTML = docLinkHtml;\n",
              "          element.appendChild(docLink);\n",
              "        }\n",
              "      </script>\n",
              "    </div>\n",
              "  </div>\n",
              "  "
            ]
          },
          "metadata": {},
          "execution_count": 35
        }
      ]
    },
    {
      "cell_type": "code",
      "source": [
        "validacao = validacao.dropna()\n",
        "validacao.tail()"
      ],
      "metadata": {
        "colab": {
          "base_uri": "https://localhost:8080/",
          "height": 238
        },
        "id": "I9ybXi2H2Zqy",
        "outputId": "371a77b6-f0fa-4ce1-fd58-beb7f17a9880"
      },
      "execution_count": 36,
      "outputs": [
        {
          "output_type": "execute_result",
          "data": {
            "text/plain": [
              "            Daily minimum temperatures  target\n",
              "Date                                          \n",
              "1990-12-26                        14.6    14.0\n",
              "1990-12-27                        14.0    13.6\n",
              "1990-12-28                        13.6    13.5\n",
              "1990-12-29                        13.5    15.7\n",
              "1990-12-30                        15.7    13.0"
            ],
            "text/html": [
              "\n",
              "  <div id=\"df-af03f292-8629-4ef1-93f8-bd67b94df783\">\n",
              "    <div class=\"colab-df-container\">\n",
              "      <div>\n",
              "<style scoped>\n",
              "    .dataframe tbody tr th:only-of-type {\n",
              "        vertical-align: middle;\n",
              "    }\n",
              "\n",
              "    .dataframe tbody tr th {\n",
              "        vertical-align: top;\n",
              "    }\n",
              "\n",
              "    .dataframe thead th {\n",
              "        text-align: right;\n",
              "    }\n",
              "</style>\n",
              "<table border=\"1\" class=\"dataframe\">\n",
              "  <thead>\n",
              "    <tr style=\"text-align: right;\">\n",
              "      <th></th>\n",
              "      <th>Daily minimum temperatures</th>\n",
              "      <th>target</th>\n",
              "    </tr>\n",
              "    <tr>\n",
              "      <th>Date</th>\n",
              "      <th></th>\n",
              "      <th></th>\n",
              "    </tr>\n",
              "  </thead>\n",
              "  <tbody>\n",
              "    <tr>\n",
              "      <th>1990-12-26</th>\n",
              "      <td>14.6</td>\n",
              "      <td>14.0</td>\n",
              "    </tr>\n",
              "    <tr>\n",
              "      <th>1990-12-27</th>\n",
              "      <td>14.0</td>\n",
              "      <td>13.6</td>\n",
              "    </tr>\n",
              "    <tr>\n",
              "      <th>1990-12-28</th>\n",
              "      <td>13.6</td>\n",
              "      <td>13.5</td>\n",
              "    </tr>\n",
              "    <tr>\n",
              "      <th>1990-12-29</th>\n",
              "      <td>13.5</td>\n",
              "      <td>15.7</td>\n",
              "    </tr>\n",
              "    <tr>\n",
              "      <th>1990-12-30</th>\n",
              "      <td>15.7</td>\n",
              "      <td>13.0</td>\n",
              "    </tr>\n",
              "  </tbody>\n",
              "</table>\n",
              "</div>\n",
              "      <button class=\"colab-df-convert\" onclick=\"convertToInteractive('df-af03f292-8629-4ef1-93f8-bd67b94df783')\"\n",
              "              title=\"Convert this dataframe to an interactive table.\"\n",
              "              style=\"display:none;\">\n",
              "        \n",
              "  <svg xmlns=\"http://www.w3.org/2000/svg\" height=\"24px\"viewBox=\"0 0 24 24\"\n",
              "       width=\"24px\">\n",
              "    <path d=\"M0 0h24v24H0V0z\" fill=\"none\"/>\n",
              "    <path d=\"M18.56 5.44l.94 2.06.94-2.06 2.06-.94-2.06-.94-.94-2.06-.94 2.06-2.06.94zm-11 1L8.5 8.5l.94-2.06 2.06-.94-2.06-.94L8.5 2.5l-.94 2.06-2.06.94zm10 10l.94 2.06.94-2.06 2.06-.94-2.06-.94-.94-2.06-.94 2.06-2.06.94z\"/><path d=\"M17.41 7.96l-1.37-1.37c-.4-.4-.92-.59-1.43-.59-.52 0-1.04.2-1.43.59L10.3 9.45l-7.72 7.72c-.78.78-.78 2.05 0 2.83L4 21.41c.39.39.9.59 1.41.59.51 0 1.02-.2 1.41-.59l7.78-7.78 2.81-2.81c.8-.78.8-2.07 0-2.86zM5.41 20L4 18.59l7.72-7.72 1.47 1.35L5.41 20z\"/>\n",
              "  </svg>\n",
              "      </button>\n",
              "      \n",
              "  <style>\n",
              "    .colab-df-container {\n",
              "      display:flex;\n",
              "      flex-wrap:wrap;\n",
              "      gap: 12px;\n",
              "    }\n",
              "\n",
              "    .colab-df-convert {\n",
              "      background-color: #E8F0FE;\n",
              "      border: none;\n",
              "      border-radius: 50%;\n",
              "      cursor: pointer;\n",
              "      display: none;\n",
              "      fill: #1967D2;\n",
              "      height: 32px;\n",
              "      padding: 0 0 0 0;\n",
              "      width: 32px;\n",
              "    }\n",
              "\n",
              "    .colab-df-convert:hover {\n",
              "      background-color: #E2EBFA;\n",
              "      box-shadow: 0px 1px 2px rgba(60, 64, 67, 0.3), 0px 1px 3px 1px rgba(60, 64, 67, 0.15);\n",
              "      fill: #174EA6;\n",
              "    }\n",
              "\n",
              "    [theme=dark] .colab-df-convert {\n",
              "      background-color: #3B4455;\n",
              "      fill: #D2E3FC;\n",
              "    }\n",
              "\n",
              "    [theme=dark] .colab-df-convert:hover {\n",
              "      background-color: #434B5C;\n",
              "      box-shadow: 0px 1px 3px 1px rgba(0, 0, 0, 0.15);\n",
              "      filter: drop-shadow(0px 1px 2px rgba(0, 0, 0, 0.3));\n",
              "      fill: #FFFFFF;\n",
              "    }\n",
              "  </style>\n",
              "\n",
              "      <script>\n",
              "        const buttonEl =\n",
              "          document.querySelector('#df-af03f292-8629-4ef1-93f8-bd67b94df783 button.colab-df-convert');\n",
              "        buttonEl.style.display =\n",
              "          google.colab.kernel.accessAllowed ? 'block' : 'none';\n",
              "\n",
              "        async function convertToInteractive(key) {\n",
              "          const element = document.querySelector('#df-af03f292-8629-4ef1-93f8-bd67b94df783');\n",
              "          const dataTable =\n",
              "            await google.colab.kernel.invokeFunction('convertToInteractive',\n",
              "                                                     [key], {});\n",
              "          if (!dataTable) return;\n",
              "\n",
              "          const docLinkHtml = 'Like what you see? Visit the ' +\n",
              "            '<a target=\"_blank\" href=https://colab.research.google.com/notebooks/data_table.ipynb>data table notebook</a>'\n",
              "            + ' to learn more about interactive tables.';\n",
              "          element.innerHTML = '';\n",
              "          dataTable['output_type'] = 'display_data';\n",
              "          await google.colab.output.renderOutput(dataTable, element);\n",
              "          const docLink = document.createElement('div');\n",
              "          docLink.innerHTML = docLinkHtml;\n",
              "          element.appendChild(docLink);\n",
              "        }\n",
              "      </script>\n",
              "    </div>\n",
              "  </div>\n",
              "  "
            ]
          },
          "metadata": {},
          "execution_count": 36
        }
      ]
    },
    {
      "cell_type": "code",
      "source": [
        "X_treino = treino.loc[:, ['Daily minimum temperatures']].values\n",
        "y_treino = treino.loc[:, ['target']].values\n",
        "X_validacao = validacao.loc[:, ['Daily minimum temperatures']].values\n",
        "y_validacao = validacao.loc[:, ['target']].values\n",
        "\n",
        "X_treino.shape, y_treino.shape, X_validacao.shape, y_validacao.shape"
      ],
      "metadata": {
        "colab": {
          "base_uri": "https://localhost:8080/"
        },
        "id": "RoNftgZj2bQp",
        "outputId": "83ff4f2a-9447-47f3-d8a3-059c74037d8f"
      },
      "execution_count": 37,
      "outputs": [
        {
          "output_type": "execute_result",
          "data": {
            "text/plain": [
              "((2916, 1), (2916, 1), (728, 1), (728, 1))"
            ]
          },
          "metadata": {},
          "execution_count": 37
        }
      ]
    },
    {
      "cell_type": "code",
      "source": [
        "modelo_xgba = XGBRegressor(objective=\"reg:squarederror\", n_estimators=1000)\n",
        "modelo_xgba.fit(X_treino, y_treino)"
      ],
      "metadata": {
        "colab": {
          "base_uri": "https://localhost:8080/",
          "height": 248
        },
        "id": "qlJGe-aV2dQa",
        "outputId": "01016531-f99b-40cd-9bb9-bf411f03a14f"
      },
      "execution_count": 38,
      "outputs": [
        {
          "output_type": "execute_result",
          "data": {
            "text/plain": [
              "XGBRegressor(base_score=None, booster=None, callbacks=None,\n",
              "             colsample_bylevel=None, colsample_bynode=None,\n",
              "             colsample_bytree=None, early_stopping_rounds=None,\n",
              "             enable_categorical=False, eval_metric=None, feature_types=None,\n",
              "             gamma=None, gpu_id=None, grow_policy=None, importance_type=None,\n",
              "             interaction_constraints=None, learning_rate=None, max_bin=None,\n",
              "             max_cat_threshold=None, max_cat_to_onehot=None,\n",
              "             max_delta_step=None, max_depth=None, max_leaves=None,\n",
              "             min_child_weight=None, missing=nan, monotone_constraints=None,\n",
              "             n_estimators=1000, n_jobs=None, num_parallel_tree=None,\n",
              "             predictor=None, random_state=None, ...)"
            ],
            "text/html": [
              "<style>#sk-container-id-1 {color: black;background-color: white;}#sk-container-id-1 pre{padding: 0;}#sk-container-id-1 div.sk-toggleable {background-color: white;}#sk-container-id-1 label.sk-toggleable__label {cursor: pointer;display: block;width: 100%;margin-bottom: 0;padding: 0.3em;box-sizing: border-box;text-align: center;}#sk-container-id-1 label.sk-toggleable__label-arrow:before {content: \"▸\";float: left;margin-right: 0.25em;color: #696969;}#sk-container-id-1 label.sk-toggleable__label-arrow:hover:before {color: black;}#sk-container-id-1 div.sk-estimator:hover label.sk-toggleable__label-arrow:before {color: black;}#sk-container-id-1 div.sk-toggleable__content {max-height: 0;max-width: 0;overflow: hidden;text-align: left;background-color: #f0f8ff;}#sk-container-id-1 div.sk-toggleable__content pre {margin: 0.2em;color: black;border-radius: 0.25em;background-color: #f0f8ff;}#sk-container-id-1 input.sk-toggleable__control:checked~div.sk-toggleable__content {max-height: 200px;max-width: 100%;overflow: auto;}#sk-container-id-1 input.sk-toggleable__control:checked~label.sk-toggleable__label-arrow:before {content: \"▾\";}#sk-container-id-1 div.sk-estimator input.sk-toggleable__control:checked~label.sk-toggleable__label {background-color: #d4ebff;}#sk-container-id-1 div.sk-label input.sk-toggleable__control:checked~label.sk-toggleable__label {background-color: #d4ebff;}#sk-container-id-1 input.sk-hidden--visually {border: 0;clip: rect(1px 1px 1px 1px);clip: rect(1px, 1px, 1px, 1px);height: 1px;margin: -1px;overflow: hidden;padding: 0;position: absolute;width: 1px;}#sk-container-id-1 div.sk-estimator {font-family: monospace;background-color: #f0f8ff;border: 1px dotted black;border-radius: 0.25em;box-sizing: border-box;margin-bottom: 0.5em;}#sk-container-id-1 div.sk-estimator:hover {background-color: #d4ebff;}#sk-container-id-1 div.sk-parallel-item::after {content: \"\";width: 100%;border-bottom: 1px solid gray;flex-grow: 1;}#sk-container-id-1 div.sk-label:hover label.sk-toggleable__label {background-color: #d4ebff;}#sk-container-id-1 div.sk-serial::before {content: \"\";position: absolute;border-left: 1px solid gray;box-sizing: border-box;top: 0;bottom: 0;left: 50%;z-index: 0;}#sk-container-id-1 div.sk-serial {display: flex;flex-direction: column;align-items: center;background-color: white;padding-right: 0.2em;padding-left: 0.2em;position: relative;}#sk-container-id-1 div.sk-item {position: relative;z-index: 1;}#sk-container-id-1 div.sk-parallel {display: flex;align-items: stretch;justify-content: center;background-color: white;position: relative;}#sk-container-id-1 div.sk-item::before, #sk-container-id-1 div.sk-parallel-item::before {content: \"\";position: absolute;border-left: 1px solid gray;box-sizing: border-box;top: 0;bottom: 0;left: 50%;z-index: -1;}#sk-container-id-1 div.sk-parallel-item {display: flex;flex-direction: column;z-index: 1;position: relative;background-color: white;}#sk-container-id-1 div.sk-parallel-item:first-child::after {align-self: flex-end;width: 50%;}#sk-container-id-1 div.sk-parallel-item:last-child::after {align-self: flex-start;width: 50%;}#sk-container-id-1 div.sk-parallel-item:only-child::after {width: 0;}#sk-container-id-1 div.sk-dashed-wrapped {border: 1px dashed gray;margin: 0 0.4em 0.5em 0.4em;box-sizing: border-box;padding-bottom: 0.4em;background-color: white;}#sk-container-id-1 div.sk-label label {font-family: monospace;font-weight: bold;display: inline-block;line-height: 1.2em;}#sk-container-id-1 div.sk-label-container {text-align: center;}#sk-container-id-1 div.sk-container {/* jupyter's `normalize.less` sets `[hidden] { display: none; }` but bootstrap.min.css set `[hidden] { display: none !important; }` so we also need the `!important` here to be able to override the default hidden behavior on the sphinx rendered scikit-learn.org. See: https://github.com/scikit-learn/scikit-learn/issues/21755 */display: inline-block !important;position: relative;}#sk-container-id-1 div.sk-text-repr-fallback {display: none;}</style><div id=\"sk-container-id-1\" class=\"sk-top-container\"><div class=\"sk-text-repr-fallback\"><pre>XGBRegressor(base_score=None, booster=None, callbacks=None,\n",
              "             colsample_bylevel=None, colsample_bynode=None,\n",
              "             colsample_bytree=None, early_stopping_rounds=None,\n",
              "             enable_categorical=False, eval_metric=None, feature_types=None,\n",
              "             gamma=None, gpu_id=None, grow_policy=None, importance_type=None,\n",
              "             interaction_constraints=None, learning_rate=None, max_bin=None,\n",
              "             max_cat_threshold=None, max_cat_to_onehot=None,\n",
              "             max_delta_step=None, max_depth=None, max_leaves=None,\n",
              "             min_child_weight=None, missing=nan, monotone_constraints=None,\n",
              "             n_estimators=1000, n_jobs=None, num_parallel_tree=None,\n",
              "             predictor=None, random_state=None, ...)</pre><b>In a Jupyter environment, please rerun this cell to show the HTML representation or trust the notebook. <br />On GitHub, the HTML representation is unable to render, please try loading this page with nbviewer.org.</b></div><div class=\"sk-container\" hidden><div class=\"sk-item\"><div class=\"sk-estimator sk-toggleable\"><input class=\"sk-toggleable__control sk-hidden--visually\" id=\"sk-estimator-id-1\" type=\"checkbox\" checked><label for=\"sk-estimator-id-1\" class=\"sk-toggleable__label sk-toggleable__label-arrow\">XGBRegressor</label><div class=\"sk-toggleable__content\"><pre>XGBRegressor(base_score=None, booster=None, callbacks=None,\n",
              "             colsample_bylevel=None, colsample_bynode=None,\n",
              "             colsample_bytree=None, early_stopping_rounds=None,\n",
              "             enable_categorical=False, eval_metric=None, feature_types=None,\n",
              "             gamma=None, gpu_id=None, grow_policy=None, importance_type=None,\n",
              "             interaction_constraints=None, learning_rate=None, max_bin=None,\n",
              "             max_cat_threshold=None, max_cat_to_onehot=None,\n",
              "             max_delta_step=None, max_depth=None, max_leaves=None,\n",
              "             min_child_weight=None, missing=nan, monotone_constraints=None,\n",
              "             n_estimators=1000, n_jobs=None, num_parallel_tree=None,\n",
              "             predictor=None, random_state=None, ...)</pre></div></div></div></div></div>"
            ]
          },
          "metadata": {},
          "execution_count": 38
        }
      ]
    },
    {
      "cell_type": "code",
      "source": [
        "validacao.iloc[0]"
      ],
      "metadata": {
        "colab": {
          "base_uri": "https://localhost:8080/"
        },
        "id": "Wv9Lvm4K2inu",
        "outputId": "2fa2c714-a642-480f-dbca-bd310f88dcda"
      },
      "execution_count": 39,
      "outputs": [
        {
          "output_type": "execute_result",
          "data": {
            "text/plain": [
              "Daily minimum temperatures    16.1\n",
              "target                        20.4\n",
              "Name: 1989-01-02 00:00:00, dtype: float64"
            ]
          },
          "metadata": {},
          "execution_count": 39
        }
      ]
    },
    {
      "cell_type": "code",
      "source": [
        "predicao = modelo_xgba.predict(X_validacao)\n",
        "predicao"
      ],
      "metadata": {
        "colab": {
          "base_uri": "https://localhost:8080/"
        },
        "id": "gyQXZ2GP2kmF",
        "outputId": "54e31a77-59f7-493d-c461-ad6e69d5ac48"
      },
      "execution_count": 40,
      "outputs": [
        {
          "output_type": "execute_result",
          "data": {
            "text/plain": [
              "array([15.416948 , 18.699797 , 13.846863 , 12.732546 ,  2.4051156,\n",
              "        7.9743357,  5.1026764,  9.052493 , 11.124948 ,  8.57722  ,\n",
              "       13.678968 , 12.221774 , 12.069542 , 21.062908 , 17.193264 ,\n",
              "       14.670411 , 12.82692  , 12.667715 , 15.141195 , 13.759426 ,\n",
              "       13.081266 , 12.100415 , 12.199565 , 13.740696 , 14.392499 ,\n",
              "       14.812003 , 10.900132 , 14.066723 , 15.483112 , 14.812003 ,\n",
              "       15.200877 , 14.787373 , 17.449106 , 13.730662 , 14.157446 ,\n",
              "        4.098926 ,  7.841806 ,  9.065861 ,  9.052493 ,  9.121672 ,\n",
              "        9.94322  , 17.599787 , 16.199526 , 17.599787 , 17.193264 ,\n",
              "       17.193264 , 14.6719885, 13.934235 , 13.725577 , 13.081266 ,\n",
              "       15.416948 , 13.716874 , 11.739092 , 14.392499 , 15.614069 ,\n",
              "       12.384481 , 15.116622 , 16.225931 , 16.225931 , 13.678968 ,\n",
              "       18.519197 , 12.732546 , 11.758794 ,  6.7999077,  9.068335 ,\n",
              "        8.57722  ,  7.100708 ,  9.696598 ,  8.841853 , 13.005589 ,\n",
              "       12.252076 , 13.730662 , 13.081266 , 13.743934 , 11.557617 ,\n",
              "       12.199565 , 13.081266 , 13.48679  , 21.062908 , 15.483112 ,\n",
              "       14.812003 , 13.115346 , 12.384481 , 10.90274  , 10.347193 ,\n",
              "       11.758794 , 11.485907 ,  9.068335 , 12.100415 , 13.957327 ,\n",
              "       13.725577 , 18.519197 , 12.732546 , 14.787373 ,  8.004291 ,\n",
              "        8.284914 ,  8.491785 , 10.603455 , 10.347193 , 12.199565 ,\n",
              "       13.846863 , 13.914686 , 11.243555 ,  8.841853 , 11.099595 ,\n",
              "       11.446653 , 11.557617 , 10.603455 ,  9.208364 , 10.037987 ,\n",
              "       10.150005 ,  9.923625 ,  8.754463 , 10.109799 , 11.907359 ,\n",
              "       13.914686 , 15.116622 , 13.759426 , 12.384481 , 10.452879 ,\n",
              "       12.732546 , 20.593775 , 20.664963 , 11.485907 ,  7.8566127,\n",
              "        7.576528 ,  7.841806 ,  7.8566127, 12.408305 , 13.081266 ,\n",
              "        9.841646 , 11.907359 , 11.099595 ,  9.068335 ,  8.754463 ,\n",
              "        8.57722  , 12.408305 , 11.399755 , 10.036848 ,  7.4677567,\n",
              "       10.109799 , 10.347193 , 10.407666 , 10.180936 ,  9.208364 ,\n",
              "       10.150005 , 11.474018 , 12.221774 , 12.384481 ,  8.004291 ,\n",
              "       10.347193 , 12.384481 , 17.599787 , 12.100415 , 11.474018 ,\n",
              "        9.2955885,  8.785437 ,  9.764645 ,  9.2955885, 10.407666 ,\n",
              "       13.846863 , 13.373176 ,  9.121672 , 10.347193 , 10.150005 ,\n",
              "        9.068335 , 11.599584 , 10.150005 ,  9.571459 ,  8.57722  ,\n",
              "        8.004291 ,  8.192759 ,  7.327259 ,  7.576528 ,  6.384614 ,\n",
              "        2.4051156,  4.098926 ,  1.5974734,  9.332651 ,  8.952762 ,\n",
              "       11.529175 , 13.957327 , 18.691076 , 12.732546 , 10.980341 ,\n",
              "        9.208364 ,  9.121672 ,  9.764645 ,  8.192759 ,  8.605643 ,\n",
              "       10.109799 , 15.141195 ,  9.065861 ,  4.824457 ,  9.59658  ,\n",
              "        9.03245  ,  7.576528 ,  8.812578 ,  8.812578 ,  8.967632 ,\n",
              "        7.576528 ,  7.433087 ,  2.6075823,  7.576528 ,  8.745666 ,\n",
              "        7.9014783,  9.287088 ,  9.208364 , 11.599584 ,  8.952762 ,\n",
              "        9.764645 , 13.725577 , 16.225931 , 20.593775 , 11.907359 ,\n",
              "       11.124948 , 11.474018 ,  8.785437 ,  8.066566 ,  8.785437 ,\n",
              "        9.068335 , 11.907359 , 14.812003 ,  8.812578 ,  6.166134 ,\n",
              "        8.812578 ,  7.7793865,  8.004291 ,  8.004291 ,  9.208364 ,\n",
              "        8.57722  ,  9.696598 , 10.603455 ,  8.785437 ,  9.287088 ,\n",
              "       10.036848 ,  9.121672 ,  7.9014783,  8.236728 ,  8.785437 ,\n",
              "        6.4862127,  8.952762 , 13.678968 , 13.791607 , 20.199465 ,\n",
              "       12.82692  , 10.347193 ,  7.938406 ,  9.068335 ,  8.785437 ,\n",
              "       13.846863 , 10.90274  ,  8.754463 , 13.373176 ,  8.967632 ,\n",
              "        8.843346 ,  7.8566127, 10.036848 ,  9.4107895,  9.9102125,\n",
              "        9.841646 , 10.603455 ,  8.967632 , 12.100415 ,  9.2955885,\n",
              "        8.236728 , 10.407666 ,  8.812578 ,  9.208364 ,  8.192759 ,\n",
              "       11.907359 , 12.069542 , 13.115346 , 14.0930805, 17.599787 ,\n",
              "       12.466746 , 12.199565 ,  8.967632 ,  8.952762 , 11.124948 ,\n",
              "        7.938406 ,  9.94322  ,  9.068335 , 15.321013 , 11.446653 ,\n",
              "        8.952762 , 11.599584 ,  9.065861 ,  8.967632 , 12.384481 ,\n",
              "       11.243555 , 10.90274  , 10.150005 , 10.347193 , 11.541555 ,\n",
              "       10.150005 , 12.069542 , 11.399755 ,  8.952762 ,  9.208364 ,\n",
              "        9.9102125, 12.466746 ,  8.952762 , 12.100415 , 12.693458 ,\n",
              "       13.701457 , 14.0930805, 13.005589 , 10.603455 ,  8.841853 ,\n",
              "        8.605643 ,  9.065861 , 11.446653 , 10.4421625, 14.392499 ,\n",
              "       10.90274  , 11.099595 , 12.384481 , 13.243612 , 15.141195 ,\n",
              "       11.446653 , 11.907359 , 11.541555 , 12.384481 , 15.88093  ,\n",
              "       21.395628 , 14.217946 , 14.787373 , 11.243555 , 12.667715 ,\n",
              "       13.914686 , 18.096413 , 15.614069 , 13.243612 , 13.740696 ,\n",
              "       15.614069 , 12.82692  , 13.143611 ,  9.052493 ,  7.841806 ,\n",
              "        9.2955885,  8.754463 , 10.109799 , 12.199565 , 13.743934 ,\n",
              "       12.100415 , 11.485907 , 11.529175 , 12.100415 , 12.221774 ,\n",
              "       21.062908 , 12.951329 , 12.100415 , 11.268586 , 11.758794 ,\n",
              "       11.557617 , 13.143611 , 12.951329 , 15.141195 , 13.846863 ,\n",
              "       12.408305 , 11.485907 , 14.787373 , 13.143611 , 13.743934 ,\n",
              "       11.557617 , 15.80619  , 14.0930805, 11.739092 ,  9.068335 ,\n",
              "       10.036848 ,  8.975627 ,  7.9743357, 10.4421625, 12.220606 ,\n",
              "       13.846863 , 15.88093  , 15.116622 , 11.894632 , 10.180936 ,\n",
              "       10.452879 , 13.081266 , 13.759426 , 13.759426 , 13.846863 ,\n",
              "       13.716874 , 13.716874 , 13.934235 , 13.081266 , 13.48679  ,\n",
              "       15.483112 , 15.483112 , 13.115346 , 12.951329 , 15.416948 ,\n",
              "       13.846863 , 11.529175 , 21.062908 , 11.894632 , 12.82692  ,\n",
              "        8.623812 ,  8.605643 ,  9.923625 , 10.347193 , 11.124948 ,\n",
              "       11.758794 , 12.384481 , 11.739092 , 13.373176 , 21.062908 ,\n",
              "       13.725577 , 16.998987 , 13.143611 , 13.914686 , 13.005589 ,\n",
              "       13.678968 , 13.398807 , 16.163124 , 13.740696 , 14.812003 ,\n",
              "       14.812003 , 21.062908 , 16.23396  , 13.841049 , 13.743934 ,\n",
              "       11.701561 , 10.109799 , 12.100415 ,  8.491785 ,  8.745666 ,\n",
              "        7.2584147, 10.603455 ,  9.4107895, 11.739092 , 14.392499 ,\n",
              "       10.407666 , 10.109799 , 13.081266 , 11.399755 , 11.399755 ,\n",
              "       13.730662 , 13.081266 , 13.115346 , 12.199565 , 13.716874 ,\n",
              "       15.141195 , 15.200877 , 15.483112 , 14.645097 , 14.066723 ,\n",
              "       12.732546 , 11.446653 , 11.907359 , 13.846863 , 13.759426 ,\n",
              "       13.743934 , 15.803645 , 11.529175 , 13.716874 ,  8.841853 ,\n",
              "        8.745666 , 10.603455 ,  9.764645 , 10.109799 , 11.151521 ,\n",
              "       21.062908 , 17.756739 , 13.730662 ,  9.4107895, 10.150005 ,\n",
              "       12.100415 , 12.384481 , 10.452879 , 13.243612 , 13.759426 ,\n",
              "       11.894632 , 11.599584 , 13.143611 , 13.005589 , 10.452879 ,\n",
              "       11.485907 ,  7.8566127, 11.151521 , 10.347193 , 13.716874 ,\n",
              "       14.787373 , 15.80619  , 12.732546 , 15.141195 , 11.485907 ,\n",
              "        9.9102125,  9.841646 , 11.485907 , 13.914686 , 12.199565 ,\n",
              "       13.934235 , 11.151521 , 10.150005 , 10.347193 ,  7.8566127,\n",
              "       12.069542 ,  9.87578  , 10.90274  , 10.531218 ,  8.812578 ,\n",
              "        6.384614 ,  8.967632 ,  9.94322  , 11.124948 , 10.180936 ,\n",
              "        8.623812 ,  7.100708 ,  6.384614 ,  7.100708 ,  9.923625 ,\n",
              "       14.0930805, 11.243555 , 14.530033 , 16.163124 , 13.846863 ,\n",
              "        8.975627 ,  7.0816965,  9.2955885, 11.474018 , 10.407666 ,\n",
              "       17.599787 ,  6.9673743, 11.099595 ,  7.4104347,  7.0816965,\n",
              "        9.616457 ,  9.9102125,  8.745666 ,  8.57722  ,  8.754463 ,\n",
              "        9.87578  ,  8.745666 ,  9.841646 ,  8.623812 ,  7.938406 ,\n",
              "        7.4677567,  5.4450026,  5.1026764,  8.066566 , 10.90274  ,\n",
              "       12.951329 , 12.069542 , 12.732546 , 15.116622 ,  8.785437 ,\n",
              "        7.9743357,  7.2584147,  8.745666 ,  9.065861 ,  9.923625 ,\n",
              "       20.664963 , 17.193264 ,  9.764645 , 10.037987 , 11.485907 ,\n",
              "       11.599584 ,  9.87578  , 11.599584 ,  8.975627 ,  8.754463 ,\n",
              "        9.068335 , 10.037987 ,  9.923625 , 10.980341 , 10.407666 ,\n",
              "        8.843346 ,  8.57722  ,  8.605643 ,  7.938406 ,  7.9743357,\n",
              "        8.192759 , 13.743934 , 12.693458 , 11.474018 , 13.740696 ,\n",
              "        8.449132 ,  8.004291 , 10.150005 , 10.603455 ,  5.8744955,\n",
              "        7.9743357, 12.220606 , 15.88093  ,  9.2955885,  9.9102125,\n",
              "        8.491785 ,  9.2955885, 10.036848 ,  8.745666 ,  7.8566127,\n",
              "        9.068335 ,  9.4107895,  7.100708 ,  8.004291 ,  9.764645 ,\n",
              "       10.036848 ,  8.952762 ,  6.7999077,  5.4450026, 11.399755 ,\n",
              "       10.603455 ,  7.938406 , 15.200877 , 15.416948 , 11.739092 ,\n",
              "       13.730662 ,  8.284914 ,  9.2955885, 10.150005 ,  8.843346 ,\n",
              "        7.576528 ,  9.923625 , 12.667715 , 13.373176 ,  9.923625 ,\n",
              "        8.967632 ,  9.571459 , 11.485907 ,  5.1026764,  8.605643 ,\n",
              "       11.399755 , 13.678968 , 10.037987 ,  8.975627 ,  7.4677567,\n",
              "        9.841646 , 13.678968 ,  9.923625 ,  6.2709265, 11.151521 ,\n",
              "       10.531218 ,  9.94322  , 17.724909 , 14.200828 , 14.0930805,\n",
              "       11.894632 , 13.005589 , 11.474018 ,  9.9102125,  8.284914 ,\n",
              "       11.124948 , 10.407666 , 10.452879 , 10.109799 ,  9.065861 ,\n",
              "        8.745666 , 15.116622 , 14.157446 , 11.124948 , 10.4421625,\n",
              "       11.446653 ,  9.616457 , 11.446653 ,  9.208364 , 11.446653 ,\n",
              "       11.541555 , 11.399755 , 13.846863 , 14.787373 , 17.756739 ,\n",
              "       13.115346 , 14.217946 , 13.743934 , 16.1509   , 13.841049 ,\n",
              "       13.081266 , 16.225931 ,  9.841646 ,  8.967632 ,  7.4104347,\n",
              "        9.616457 , 14.157446 , 11.758794 , 10.603455 , 11.151521 ,\n",
              "       13.243612 , 14.157446 , 12.384481 , 11.268586 ,  9.052493 ,\n",
              "       10.180936 ,  9.4107895,  8.754463 , 13.081266 , 11.529175 ,\n",
              "       11.124948 , 11.151521 , 11.739092 , 11.243555 ,  9.052493 ,\n",
              "       11.894632 , 11.894632 , 13.143611 , 11.701561 , 13.081266 ,\n",
              "       12.221774 , 12.951329 , 11.268586 , 10.036848 ,  8.192759 ,\n",
              "        8.841853 , 12.100415 , 11.474018 , 12.100415 , 13.914686 ,\n",
              "       11.099595 , 12.199565 , 12.069542 , 13.115346 , 12.82692  ,\n",
              "       14.530033 , 11.894632 , 12.220606 , 12.667715 , 12.384481 ,\n",
              "       12.82692  ,  9.94322  , 11.243555 , 14.157446 , 13.914686 ,\n",
              "       13.115346 , 12.466746 , 13.725577 ], dtype=float32)"
            ]
          },
          "metadata": {},
          "execution_count": 40
        }
      ]
    },
    {
      "cell_type": "code",
      "source": [
        "validacao[\"pred\"] = predicao\n",
        "validacao.head()"
      ],
      "metadata": {
        "colab": {
          "base_uri": "https://localhost:8080/",
          "height": 238
        },
        "id": "TjNW6B8Y2mDU",
        "outputId": "198c233c-5037-4772-c221-05c791676d91"
      },
      "execution_count": 41,
      "outputs": [
        {
          "output_type": "execute_result",
          "data": {
            "text/plain": [
              "            Daily minimum temperatures  target       pred\n",
              "Date                                                     \n",
              "1989-01-02                        16.1    20.4  15.416948\n",
              "1989-01-03                        20.4    13.3  18.699797\n",
              "1989-01-04                        13.3    14.2  13.846863\n",
              "1989-01-05                        14.2     2.3  12.732546\n",
              "1989-01-06                         2.3     6.0   2.405116"
            ],
            "text/html": [
              "\n",
              "  <div id=\"df-fa398df9-48d8-49b4-a55f-9c2f81870d2d\">\n",
              "    <div class=\"colab-df-container\">\n",
              "      <div>\n",
              "<style scoped>\n",
              "    .dataframe tbody tr th:only-of-type {\n",
              "        vertical-align: middle;\n",
              "    }\n",
              "\n",
              "    .dataframe tbody tr th {\n",
              "        vertical-align: top;\n",
              "    }\n",
              "\n",
              "    .dataframe thead th {\n",
              "        text-align: right;\n",
              "    }\n",
              "</style>\n",
              "<table border=\"1\" class=\"dataframe\">\n",
              "  <thead>\n",
              "    <tr style=\"text-align: right;\">\n",
              "      <th></th>\n",
              "      <th>Daily minimum temperatures</th>\n",
              "      <th>target</th>\n",
              "      <th>pred</th>\n",
              "    </tr>\n",
              "    <tr>\n",
              "      <th>Date</th>\n",
              "      <th></th>\n",
              "      <th></th>\n",
              "      <th></th>\n",
              "    </tr>\n",
              "  </thead>\n",
              "  <tbody>\n",
              "    <tr>\n",
              "      <th>1989-01-02</th>\n",
              "      <td>16.1</td>\n",
              "      <td>20.4</td>\n",
              "      <td>15.416948</td>\n",
              "    </tr>\n",
              "    <tr>\n",
              "      <th>1989-01-03</th>\n",
              "      <td>20.4</td>\n",
              "      <td>13.3</td>\n",
              "      <td>18.699797</td>\n",
              "    </tr>\n",
              "    <tr>\n",
              "      <th>1989-01-04</th>\n",
              "      <td>13.3</td>\n",
              "      <td>14.2</td>\n",
              "      <td>13.846863</td>\n",
              "    </tr>\n",
              "    <tr>\n",
              "      <th>1989-01-05</th>\n",
              "      <td>14.2</td>\n",
              "      <td>2.3</td>\n",
              "      <td>12.732546</td>\n",
              "    </tr>\n",
              "    <tr>\n",
              "      <th>1989-01-06</th>\n",
              "      <td>2.3</td>\n",
              "      <td>6.0</td>\n",
              "      <td>2.405116</td>\n",
              "    </tr>\n",
              "  </tbody>\n",
              "</table>\n",
              "</div>\n",
              "      <button class=\"colab-df-convert\" onclick=\"convertToInteractive('df-fa398df9-48d8-49b4-a55f-9c2f81870d2d')\"\n",
              "              title=\"Convert this dataframe to an interactive table.\"\n",
              "              style=\"display:none;\">\n",
              "        \n",
              "  <svg xmlns=\"http://www.w3.org/2000/svg\" height=\"24px\"viewBox=\"0 0 24 24\"\n",
              "       width=\"24px\">\n",
              "    <path d=\"M0 0h24v24H0V0z\" fill=\"none\"/>\n",
              "    <path d=\"M18.56 5.44l.94 2.06.94-2.06 2.06-.94-2.06-.94-.94-2.06-.94 2.06-2.06.94zm-11 1L8.5 8.5l.94-2.06 2.06-.94-2.06-.94L8.5 2.5l-.94 2.06-2.06.94zm10 10l.94 2.06.94-2.06 2.06-.94-2.06-.94-.94-2.06-.94 2.06-2.06.94z\"/><path d=\"M17.41 7.96l-1.37-1.37c-.4-.4-.92-.59-1.43-.59-.52 0-1.04.2-1.43.59L10.3 9.45l-7.72 7.72c-.78.78-.78 2.05 0 2.83L4 21.41c.39.39.9.59 1.41.59.51 0 1.02-.2 1.41-.59l7.78-7.78 2.81-2.81c.8-.78.8-2.07 0-2.86zM5.41 20L4 18.59l7.72-7.72 1.47 1.35L5.41 20z\"/>\n",
              "  </svg>\n",
              "      </button>\n",
              "      \n",
              "  <style>\n",
              "    .colab-df-container {\n",
              "      display:flex;\n",
              "      flex-wrap:wrap;\n",
              "      gap: 12px;\n",
              "    }\n",
              "\n",
              "    .colab-df-convert {\n",
              "      background-color: #E8F0FE;\n",
              "      border: none;\n",
              "      border-radius: 50%;\n",
              "      cursor: pointer;\n",
              "      display: none;\n",
              "      fill: #1967D2;\n",
              "      height: 32px;\n",
              "      padding: 0 0 0 0;\n",
              "      width: 32px;\n",
              "    }\n",
              "\n",
              "    .colab-df-convert:hover {\n",
              "      background-color: #E2EBFA;\n",
              "      box-shadow: 0px 1px 2px rgba(60, 64, 67, 0.3), 0px 1px 3px 1px rgba(60, 64, 67, 0.15);\n",
              "      fill: #174EA6;\n",
              "    }\n",
              "\n",
              "    [theme=dark] .colab-df-convert {\n",
              "      background-color: #3B4455;\n",
              "      fill: #D2E3FC;\n",
              "    }\n",
              "\n",
              "    [theme=dark] .colab-df-convert:hover {\n",
              "      background-color: #434B5C;\n",
              "      box-shadow: 0px 1px 3px 1px rgba(0, 0, 0, 0.15);\n",
              "      filter: drop-shadow(0px 1px 2px rgba(0, 0, 0, 0.3));\n",
              "      fill: #FFFFFF;\n",
              "    }\n",
              "  </style>\n",
              "\n",
              "      <script>\n",
              "        const buttonEl =\n",
              "          document.querySelector('#df-fa398df9-48d8-49b4-a55f-9c2f81870d2d button.colab-df-convert');\n",
              "        buttonEl.style.display =\n",
              "          google.colab.kernel.accessAllowed ? 'block' : 'none';\n",
              "\n",
              "        async function convertToInteractive(key) {\n",
              "          const element = document.querySelector('#df-fa398df9-48d8-49b4-a55f-9c2f81870d2d');\n",
              "          const dataTable =\n",
              "            await google.colab.kernel.invokeFunction('convertToInteractive',\n",
              "                                                     [key], {});\n",
              "          if (!dataTable) return;\n",
              "\n",
              "          const docLinkHtml = 'Like what you see? Visit the ' +\n",
              "            '<a target=\"_blank\" href=https://colab.research.google.com/notebooks/data_table.ipynb>data table notebook</a>'\n",
              "            + ' to learn more about interactive tables.';\n",
              "          element.innerHTML = '';\n",
              "          dataTable['output_type'] = 'display_data';\n",
              "          await google.colab.output.renderOutput(dataTable, element);\n",
              "          const docLink = document.createElement('div');\n",
              "          docLink.innerHTML = docLinkHtml;\n",
              "          element.appendChild(docLink);\n",
              "        }\n",
              "      </script>\n",
              "    </div>\n",
              "  </div>\n",
              "  "
            ]
          },
          "metadata": {},
          "execution_count": 41
        }
      ]
    },
    {
      "cell_type": "code",
      "source": [
        "mean_squared_error(X_validacao, predicao)"
      ],
      "metadata": {
        "colab": {
          "base_uri": "https://localhost:8080/"
        },
        "id": "I5j3EDc72oX1",
        "outputId": "d251aaeb-0345-4b63-d02c-11a34451344d"
      },
      "execution_count": 42,
      "outputs": [
        {
          "output_type": "execute_result",
          "data": {
            "text/plain": [
              "3.5760037830418296"
            ]
          },
          "metadata": {},
          "execution_count": 42
        }
      ]
    },
    {
      "cell_type": "code",
      "source": [],
      "metadata": {
        "id": "tYETdDuN2p1O"
      },
      "execution_count": 42,
      "outputs": []
    }
  ]
}